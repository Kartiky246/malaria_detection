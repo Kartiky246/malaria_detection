{
 "cells": [
  {
   "cell_type": "code",
   "execution_count": 1,
   "metadata": {},
   "outputs": [],
   "source": [
    "from tensorflow.keras.layers import Input, Lambda, Dense, Flatten,Conv2D\n",
    "from tensorflow.keras.models import Model\n",
    "from tensorflow.keras.applications.vgg19 import VGG19\n",
    "from tensorflow.keras.applications.resnet50 import preprocess_input\n",
    "from tensorflow.keras.preprocessing import image\n",
    "from tensorflow.keras.preprocessing.image import ImageDataGenerator,load_img\n",
    "from tensorflow.keras.models import Sequential\n",
    "import numpy as np\n",
    "from glob import glob\n",
    "import matplotlib.pyplot as plt"
   ]
  },
  {
   "cell_type": "code",
   "execution_count": 2,
   "metadata": {},
   "outputs": [],
   "source": [
    "# re sizing all images\n",
    "IMAGE_SIZE = [224, 224]\n",
    "\n",
    "train_path = 'cell_images/Train'\n",
    "valid_path = 'cell_images/Test'"
   ]
  },
  {
   "cell_type": "code",
   "execution_count": 3,
   "metadata": {},
   "outputs": [],
   "source": [
    "# Importing the Vgg 16 \n",
    "mobilnet = VGG19(input_shape=IMAGE_SIZE + [3], weights='imagenet', include_top=False)"
   ]
  },
  {
   "cell_type": "code",
   "execution_count": 4,
   "metadata": {},
   "outputs": [],
   "source": [
    "\n",
    "# don't train existing weights\n",
    "for layer in mobilnet.layers:\n",
    "    layer.trainable = False"
   ]
  },
  {
   "cell_type": "code",
   "execution_count": 5,
   "metadata": {},
   "outputs": [],
   "source": [
    "folders = glob('Dataset/Train/*')"
   ]
  },
  {
   "cell_type": "code",
   "execution_count": 6,
   "metadata": {},
   "outputs": [
    {
     "data": {
      "text/plain": [
       "['Dataset/Train\\\\Parasite', 'Dataset/Train\\\\Uninfected']"
      ]
     },
     "execution_count": 6,
     "metadata": {},
     "output_type": "execute_result"
    }
   ],
   "source": [
    "folders"
   ]
  },
  {
   "cell_type": "code",
   "execution_count": 7,
   "metadata": {},
   "outputs": [],
   "source": [
    "\n",
    "# our layers - you can add more if you want\n",
    "x = Flatten()(mobilnet.output)"
   ]
  },
  {
   "cell_type": "code",
   "execution_count": 8,
   "metadata": {},
   "outputs": [],
   "source": [
    "\n",
    "prediction = Dense(len(folders), activation='softmax')(x)\n",
    "\n",
    "# create a model object\n",
    "model = Model(inputs=mobilnet.input, outputs=prediction)"
   ]
  },
  {
   "cell_type": "code",
   "execution_count": 9,
   "metadata": {},
   "outputs": [
    {
     "name": "stdout",
     "output_type": "stream",
     "text": [
      "Model: \"model\"\n",
      "_________________________________________________________________\n",
      "Layer (type)                 Output Shape              Param #   \n",
      "=================================================================\n",
      "input_1 (InputLayer)         [(None, 224, 224, 3)]     0         \n",
      "_________________________________________________________________\n",
      "block1_conv1 (Conv2D)        (None, 224, 224, 64)      1792      \n",
      "_________________________________________________________________\n",
      "block1_conv2 (Conv2D)        (None, 224, 224, 64)      36928     \n",
      "_________________________________________________________________\n",
      "block1_pool (MaxPooling2D)   (None, 112, 112, 64)      0         \n",
      "_________________________________________________________________\n",
      "block2_conv1 (Conv2D)        (None, 112, 112, 128)     73856     \n",
      "_________________________________________________________________\n",
      "block2_conv2 (Conv2D)        (None, 112, 112, 128)     147584    \n",
      "_________________________________________________________________\n",
      "block2_pool (MaxPooling2D)   (None, 56, 56, 128)       0         \n",
      "_________________________________________________________________\n",
      "block3_conv1 (Conv2D)        (None, 56, 56, 256)       295168    \n",
      "_________________________________________________________________\n",
      "block3_conv2 (Conv2D)        (None, 56, 56, 256)       590080    \n",
      "_________________________________________________________________\n",
      "block3_conv3 (Conv2D)        (None, 56, 56, 256)       590080    \n",
      "_________________________________________________________________\n",
      "block3_conv4 (Conv2D)        (None, 56, 56, 256)       590080    \n",
      "_________________________________________________________________\n",
      "block3_pool (MaxPooling2D)   (None, 28, 28, 256)       0         \n",
      "_________________________________________________________________\n",
      "block4_conv1 (Conv2D)        (None, 28, 28, 512)       1180160   \n",
      "_________________________________________________________________\n",
      "block4_conv2 (Conv2D)        (None, 28, 28, 512)       2359808   \n",
      "_________________________________________________________________\n",
      "block4_conv3 (Conv2D)        (None, 28, 28, 512)       2359808   \n",
      "_________________________________________________________________\n",
      "block4_conv4 (Conv2D)        (None, 28, 28, 512)       2359808   \n",
      "_________________________________________________________________\n",
      "block4_pool (MaxPooling2D)   (None, 14, 14, 512)       0         \n",
      "_________________________________________________________________\n",
      "block5_conv1 (Conv2D)        (None, 14, 14, 512)       2359808   \n",
      "_________________________________________________________________\n",
      "block5_conv2 (Conv2D)        (None, 14, 14, 512)       2359808   \n",
      "_________________________________________________________________\n",
      "block5_conv3 (Conv2D)        (None, 14, 14, 512)       2359808   \n",
      "_________________________________________________________________\n",
      "block5_conv4 (Conv2D)        (None, 14, 14, 512)       2359808   \n",
      "_________________________________________________________________\n",
      "block5_pool (MaxPooling2D)   (None, 7, 7, 512)         0         \n",
      "_________________________________________________________________\n",
      "flatten (Flatten)            (None, 25088)             0         \n",
      "_________________________________________________________________\n",
      "dense (Dense)                (None, 2)                 50178     \n",
      "=================================================================\n",
      "Total params: 20,074,562\n",
      "Trainable params: 50,178\n",
      "Non-trainable params: 20,024,384\n",
      "_________________________________________________________________\n"
     ]
    }
   ],
   "source": [
    "model.summary()"
   ]
  },
  {
   "cell_type": "code",
   "execution_count": 10,
   "metadata": {},
   "outputs": [],
   "source": [
    "\n",
    "from tensorflow.keras.layers import MaxPooling2D"
   ]
  },
  {
   "cell_type": "code",
   "execution_count": 11,
   "metadata": {},
   "outputs": [
    {
     "name": "stdout",
     "output_type": "stream",
     "text": [
      "Model: \"sequential\"\n",
      "_________________________________________________________________\n",
      "Layer (type)                 Output Shape              Param #   \n",
      "=================================================================\n",
      "conv2d (Conv2D)              (None, 224, 224, 16)      208       \n",
      "_________________________________________________________________\n",
      "max_pooling2d (MaxPooling2D) (None, 112, 112, 16)      0         \n",
      "_________________________________________________________________\n",
      "conv2d_1 (Conv2D)            (None, 112, 112, 32)      2080      \n",
      "_________________________________________________________________\n",
      "max_pooling2d_1 (MaxPooling2 (None, 56, 56, 32)        0         \n",
      "_________________________________________________________________\n",
      "conv2d_2 (Conv2D)            (None, 56, 56, 64)        8256      \n",
      "_________________________________________________________________\n",
      "max_pooling2d_2 (MaxPooling2 (None, 28, 28, 64)        0         \n",
      "_________________________________________________________________\n",
      "flatten_1 (Flatten)          (None, 50176)             0         \n",
      "_________________________________________________________________\n",
      "dense_1 (Dense)              (None, 500)               25088500  \n",
      "_________________________________________________________________\n",
      "dense_2 (Dense)              (None, 2)                 1002      \n",
      "=================================================================\n",
      "Total params: 25,100,046\n",
      "Trainable params: 25,100,046\n",
      "Non-trainable params: 0\n",
      "_________________________________________________________________\n"
     ]
    }
   ],
   "source": [
    "model=Sequential()\n",
    "model.add(Conv2D(filters=16,kernel_size=2,padding=\"same\",activation=\"relu\",input_shape=(224,224,3)))\n",
    "model.add(MaxPooling2D(pool_size=2))\n",
    "model.add(Conv2D(filters=32,kernel_size=2,padding=\"same\",activation =\"relu\"))\n",
    "model.add(MaxPooling2D(pool_size=2))\n",
    "model.add(Conv2D(filters=64,kernel_size=2,padding=\"same\",activation=\"relu\"))\n",
    "model.add(MaxPooling2D(pool_size=2))\n",
    "model.add(Flatten())\n",
    "model.add(Dense(500,activation=\"relu\"))\n",
    "model.add(Dense(2,activation=\"softmax\"))\n",
    "model.summary()"
   ]
  },
  {
   "cell_type": "code",
   "execution_count": 12,
   "metadata": {},
   "outputs": [],
   "source": [
    "model.compile(\n",
    "  loss='categorical_crossentropy',\n",
    "  optimizer='adam',\n",
    "  metrics=['accuracy']\n",
    ")"
   ]
  },
  {
   "cell_type": "code",
   "execution_count": 13,
   "metadata": {},
   "outputs": [],
   "source": [
    "from tensorflow.keras.preprocessing.image import ImageDataGenerator\n",
    "\n",
    "train_datagen = ImageDataGenerator(rescale = 1./255,\n",
    "                                   shear_range = 0.2,\n",
    "                                   zoom_range = 0.2,\n",
    "                                   horizontal_flip = True)\n",
    "\n",
    "test_datagen = ImageDataGenerator(rescale = 1./255)"
   ]
  },
  {
   "cell_type": "code",
   "execution_count": 14,
   "metadata": {},
   "outputs": [
    {
     "name": "stdout",
     "output_type": "stream",
     "text": [
      "Found 416 images belonging to 2 classes.\n"
     ]
    }
   ],
   "source": [
    "training_set = train_datagen.flow_from_directory('Dataset/Train',\n",
    "                                                 target_size = (224, 224),\n",
    "                                                 batch_size = 32,\n",
    "                                                 class_mode = 'categorical')"
   ]
  },
  {
   "cell_type": "code",
   "execution_count": 15,
   "metadata": {},
   "outputs": [
    {
     "data": {
      "text/plain": [
       "<keras_preprocessing.image.directory_iterator.DirectoryIterator at 0x17e58f54288>"
      ]
     },
     "execution_count": 15,
     "metadata": {},
     "output_type": "execute_result"
    }
   ],
   "source": [
    "\n",
    "training_set"
   ]
  },
  {
   "cell_type": "code",
   "execution_count": 16,
   "metadata": {},
   "outputs": [
    {
     "name": "stdout",
     "output_type": "stream",
     "text": [
      "Found 134 images belonging to 2 classes.\n"
     ]
    }
   ],
   "source": [
    "test_set = test_datagen.flow_from_directory('Dataset/Test',\n",
    "                                            target_size = (224, 224),\n",
    "                                            batch_size = 32,\n",
    "                                            class_mode = 'categorical')"
   ]
  },
  {
   "cell_type": "code",
   "execution_count": 17,
   "metadata": {},
   "outputs": [
    {
     "name": "stdout",
     "output_type": "stream",
     "text": [
      "WARNING:tensorflow:From <ipython-input-17-070b10e8c207>:6: Model.fit_generator (from tensorflow.python.keras.engine.training) is deprecated and will be removed in a future version.\n",
      "Instructions for updating:\n",
      "Please use Model.fit, which supports generators.\n",
      "Epoch 1/50\n",
      "13/13 [==============================] - 36s 3s/step - loss: 1.1674 - accuracy: 0.5385 - val_loss: 0.6644 - val_accuracy: 0.6791\n",
      "Epoch 2/50\n",
      "13/13 [==============================] - 27s 2s/step - loss: 0.5698 - accuracy: 0.7043 - val_loss: 0.8394 - val_accuracy: 0.3582\n",
      "Epoch 3/50\n",
      "13/13 [==============================] - 19s 1s/step - loss: 0.5023 - accuracy: 0.7596 - val_loss: 0.8157 - val_accuracy: 0.4478\n",
      "Epoch 4/50\n",
      "13/13 [==============================] - 27s 2s/step - loss: 0.4623 - accuracy: 0.7596 - val_loss: 1.2097 - val_accuracy: 0.3284\n",
      "Epoch 5/50\n",
      "13/13 [==============================] - 30s 2s/step - loss: 0.4448 - accuracy: 0.7861 - val_loss: 0.9096 - val_accuracy: 0.4776\n",
      "Epoch 6/50\n",
      "13/13 [==============================] - 30s 2s/step - loss: 0.4286 - accuracy: 0.7933 - val_loss: 0.9571 - val_accuracy: 0.4403\n",
      "Epoch 7/50\n",
      "13/13 [==============================] - 28s 2s/step - loss: 0.4099 - accuracy: 0.8101 - val_loss: 0.7064 - val_accuracy: 0.5075\n",
      "Epoch 8/50\n",
      "13/13 [==============================] - 31s 2s/step - loss: 0.3877 - accuracy: 0.8269 - val_loss: 1.0651 - val_accuracy: 0.4030\n",
      "Epoch 9/50\n",
      "13/13 [==============================] - 29s 2s/step - loss: 0.3736 - accuracy: 0.8341 - val_loss: 1.0189 - val_accuracy: 0.4403\n",
      "Epoch 10/50\n",
      "13/13 [==============================] - 28s 2s/step - loss: 0.3217 - accuracy: 0.8438 - val_loss: 0.7131 - val_accuracy: 0.5597\n",
      "Epoch 11/50\n",
      "13/13 [==============================] - 27s 2s/step - loss: 0.2925 - accuracy: 0.8870 - val_loss: 0.6236 - val_accuracy: 0.6343\n",
      "Epoch 12/50\n",
      "13/13 [==============================] - 33s 3s/step - loss: 0.2487 - accuracy: 0.8894 - val_loss: 0.6452 - val_accuracy: 0.6269\n",
      "Epoch 13/50\n",
      "13/13 [==============================] - 31s 2s/step - loss: 0.2438 - accuracy: 0.8990 - val_loss: 0.6783 - val_accuracy: 0.6567\n",
      "Epoch 14/50\n",
      "13/13 [==============================] - 29s 2s/step - loss: 0.2367 - accuracy: 0.9279 - val_loss: 0.3461 - val_accuracy: 0.8881\n",
      "Epoch 15/50\n",
      "13/13 [==============================] - 29s 2s/step - loss: 0.2332 - accuracy: 0.9111 - val_loss: 0.3101 - val_accuracy: 0.9328\n",
      "Epoch 16/50\n",
      "13/13 [==============================] - 31s 2s/step - loss: 0.1909 - accuracy: 0.9279 - val_loss: 0.4534 - val_accuracy: 0.7313\n",
      "Epoch 17/50\n",
      "13/13 [==============================] - 29s 2s/step - loss: 0.1651 - accuracy: 0.9327 - val_loss: 0.6327 - val_accuracy: 0.6940\n",
      "Epoch 18/50\n",
      "13/13 [==============================] - 29s 2s/step - loss: 0.1472 - accuracy: 0.9567 - val_loss: 0.2699 - val_accuracy: 0.8358\n",
      "Epoch 19/50\n",
      "13/13 [==============================] - 32s 2s/step - loss: 0.1095 - accuracy: 0.9567 - val_loss: 0.2503 - val_accuracy: 0.9179\n",
      "Epoch 20/50\n",
      "13/13 [==============================] - 29s 2s/step - loss: 0.1205 - accuracy: 0.9639 - val_loss: 0.2261 - val_accuracy: 0.9179\n",
      "Epoch 21/50\n",
      "13/13 [==============================] - 29s 2s/step - loss: 0.0953 - accuracy: 0.9688 - val_loss: 0.2603 - val_accuracy: 0.8582\n",
      "Epoch 22/50\n",
      "13/13 [==============================] - 29s 2s/step - loss: 0.0853 - accuracy: 0.9663 - val_loss: 0.2392 - val_accuracy: 0.9030\n",
      "Epoch 23/50\n",
      "13/13 [==============================] - 29s 2s/step - loss: 0.0749 - accuracy: 0.9736 - val_loss: 0.2245 - val_accuracy: 0.8657\n",
      "Epoch 24/50\n",
      "13/13 [==============================] - 29s 2s/step - loss: 0.1029 - accuracy: 0.9639 - val_loss: 0.2331 - val_accuracy: 0.8881\n",
      "Epoch 25/50\n",
      "13/13 [==============================] - 28s 2s/step - loss: 0.0818 - accuracy: 0.9832 - val_loss: 0.2535 - val_accuracy: 0.8881\n",
      "Epoch 26/50\n",
      "13/13 [==============================] - 29s 2s/step - loss: 0.0642 - accuracy: 0.9760 - val_loss: 0.1795 - val_accuracy: 0.9254\n",
      "Epoch 27/50\n",
      "13/13 [==============================] - 31s 2s/step - loss: 0.0704 - accuracy: 0.9712 - val_loss: 0.1826 - val_accuracy: 0.9328\n",
      "Epoch 28/50\n",
      "13/13 [==============================] - 31s 2s/step - loss: 0.0563 - accuracy: 0.9808 - val_loss: 0.2242 - val_accuracy: 0.8955\n",
      "Epoch 29/50\n",
      "13/13 [==============================] - 29s 2s/step - loss: 0.0807 - accuracy: 0.9688 - val_loss: 0.2969 - val_accuracy: 0.9104\n",
      "Epoch 30/50\n",
      "13/13 [==============================] - 31s 2s/step - loss: 0.1077 - accuracy: 0.9736 - val_loss: 0.3004 - val_accuracy: 0.8806\n",
      "Epoch 31/50\n",
      "13/13 [==============================] - 29s 2s/step - loss: 0.0938 - accuracy: 0.9760 - val_loss: 0.2314 - val_accuracy: 0.9104\n",
      "Epoch 32/50\n",
      "13/13 [==============================] - 27s 2s/step - loss: 0.0531 - accuracy: 0.9880 - val_loss: 0.2485 - val_accuracy: 0.9030\n",
      "Epoch 33/50\n",
      "13/13 [==============================] - 22s 2s/step - loss: 0.1569 - accuracy: 0.9375 - val_loss: 0.3091 - val_accuracy: 0.8731\n",
      "Epoch 34/50\n",
      "13/13 [==============================] - 17s 1s/step - loss: 0.1714 - accuracy: 0.9519 - val_loss: 0.6232 - val_accuracy: 0.8134\n",
      "Epoch 35/50\n",
      "13/13 [==============================] - 18s 1s/step - loss: 0.0730 - accuracy: 0.9808 - val_loss: 0.4922 - val_accuracy: 0.8507\n",
      "Epoch 36/50\n",
      "13/13 [==============================] - 17s 1s/step - loss: 0.0698 - accuracy: 0.9832 - val_loss: 0.3115 - val_accuracy: 0.8806\n",
      "Epoch 37/50\n",
      "13/13 [==============================] - 17s 1s/step - loss: 0.0637 - accuracy: 0.9832 - val_loss: 0.2339 - val_accuracy: 0.9104\n",
      "Epoch 38/50\n",
      "13/13 [==============================] - 17s 1s/step - loss: 0.0384 - accuracy: 0.9880 - val_loss: 0.2943 - val_accuracy: 0.8955\n",
      "Epoch 39/50\n",
      "13/13 [==============================] - 17s 1s/step - loss: 0.0755 - accuracy: 0.9736 - val_loss: 0.4938 - val_accuracy: 0.8433\n",
      "Epoch 40/50\n",
      "13/13 [==============================] - 17s 1s/step - loss: 0.0839 - accuracy: 0.9712 - val_loss: 0.4749 - val_accuracy: 0.8507\n",
      "Epoch 41/50\n",
      "13/13 [==============================] - 25s 2s/step - loss: 0.0587 - accuracy: 0.9808 - val_loss: 0.1794 - val_accuracy: 0.9254\n",
      "Epoch 42/50\n",
      "13/13 [==============================] - 29s 2s/step - loss: 0.1302 - accuracy: 0.9688 - val_loss: 0.5971 - val_accuracy: 0.8284\n",
      "Epoch 43/50\n",
      "13/13 [==============================] - 30s 2s/step - loss: 0.1310 - accuracy: 0.9663 - val_loss: 0.3332 - val_accuracy: 0.8582\n",
      "Epoch 44/50\n",
      "13/13 [==============================] - 29s 2s/step - loss: 0.0741 - accuracy: 0.9712 - val_loss: 0.2834 - val_accuracy: 0.8731\n",
      "Epoch 45/50\n",
      "13/13 [==============================] - 32s 2s/step - loss: 0.0316 - accuracy: 0.9928 - val_loss: 0.1378 - val_accuracy: 0.9403\n",
      "Epoch 46/50\n",
      "13/13 [==============================] - 33s 3s/step - loss: 0.0255 - accuracy: 0.9952 - val_loss: 0.2425 - val_accuracy: 0.9179\n",
      "Epoch 47/50\n",
      "13/13 [==============================] - 34s 3s/step - loss: 0.0642 - accuracy: 0.9832 - val_loss: 0.2816 - val_accuracy: 0.8881\n",
      "Epoch 48/50\n",
      "13/13 [==============================] - 33s 3s/step - loss: 0.0678 - accuracy: 0.9688 - val_loss: 0.2729 - val_accuracy: 0.8881\n",
      "Epoch 49/50\n",
      "13/13 [==============================] - 33s 3s/step - loss: 0.0406 - accuracy: 0.9856 - val_loss: 0.3069 - val_accuracy: 0.8731\n",
      "Epoch 50/50\n",
      "13/13 [==============================] - 32s 2s/step - loss: 0.0253 - accuracy: 0.9952 - val_loss: 0.3403 - val_accuracy: 0.8806\n"
     ]
    }
   ],
   "source": [
    "r = model.fit_generator(\n",
    "  training_set,\n",
    "  validation_data=test_set,\n",
    "  epochs=50,\n",
    "  steps_per_epoch=len(training_set),\n",
    "  validation_steps=len(test_set)\n",
    ")"
   ]
  },
  {
   "cell_type": "code",
   "execution_count": 18,
   "metadata": {},
   "outputs": [
    {
     "data": {
      "image/png": "[encoded data removed]",
      "text/plain": [
       "<Figure size 432x288 with 1 Axes>"
      ]
     },
     "metadata": {
      "needs_background": "light"
     },
     "output_type": "display_data"
    },
    {
     "data": {
      "image/png": "[encoded data removed]",
      "text/plain": [
       "<Figure size 432x288 with 1 Axes>"
      ]
     },
     "metadata": {
      "needs_background": "light"
     },
     "output_type": "display_data"
    },
    {
     "data": {
      "text/plain": [
       "<Figure size 432x288 with 0 Axes>"
      ]
     },
     "metadata": {},
     "output_type": "display_data"
    }
   ],
   "source": [
    "# plot the loss\n",
    "plt.plot(r.history['loss'], label='train loss')\n",
    "plt.plot(r.history['val_loss'], label='val loss')\n",
    "plt.legend()\n",
    "plt.show()\n",
    "plt.savefig('LossVal_loss')\n",
    "\n",
    "# plot the accuracy\n",
    "plt.plot(r.history['accuracy'], label='train acc')\n",
    "plt.plot(r.history['val_accuracy'], label='val acc')\n",
    "plt.legend()\n",
    "plt.show()\n",
    "plt.savefig('AccVal_acc')"
   ]
  },
  {
   "cell_type": "code",
   "execution_count": 19,
   "metadata": {},
   "outputs": [],
   "source": [
    "# save it as a h5 file\n",
    "\n",
    "\n",
    "from tensorflow.keras.models import load_model\n",
    "\n",
    "model.save('model_vgg19.h75')"
   ]
  },
  {
   "cell_type": "code",
   "execution_count": 20,
   "metadata": {},
   "outputs": [],
   "source": [
    "y_pred = model.predict(test_set)"
   ]
  },
  {
   "cell_type": "code",
   "execution_count": 21,
   "metadata": {},
   "outputs": [
    {
     "data": {
      "text/plain": [
       "array([[6.13256218e-03, 9.93867457e-01],\n",
       "       [1.60670455e-03, 9.98393238e-01],\n",
       "       [2.36329739e-04, 9.99763668e-01],\n",
       "       [9.99998093e-01, 1.92918696e-06],\n",
       "       [2.45022941e-02, 9.75497663e-01],\n",
       "       [1.00000000e+00, 3.65375156e-13],\n",
       "       [1.00000000e+00, 1.91412958e-27],\n",
       "       [9.99999881e-01, 1.32708124e-07],\n",
       "       [6.39133947e-03, 9.93608713e-01],\n",
       "       [1.00000000e+00, 2.70498006e-22],\n",
       "       [9.99989629e-01, 1.03906377e-05],\n",
       "       [1.26938138e-03, 9.98730600e-01],\n",
       "       [1.00000000e+00, 2.75742873e-09],\n",
       "       [9.99996543e-01, 3.44451541e-06],\n",
       "       [1.61298143e-03, 9.98386979e-01],\n",
       "       [9.99996066e-01, 3.88004582e-06],\n",
       "       [9.99999762e-01, 1.99488824e-07],\n",
       "       [1.00000000e+00, 9.56432600e-10],\n",
       "       [1.00000000e+00, 5.25088362e-10],\n",
       "       [6.40498381e-03, 9.93595064e-01],\n",
       "       [2.57919729e-01, 7.42080331e-01],\n",
       "       [1.13157206e-03, 9.98868465e-01],\n",
       "       [4.53402608e-04, 9.99546587e-01],\n",
       "       [1.00000000e+00, 6.20209960e-12],\n",
       "       [2.84781680e-03, 9.97152209e-01],\n",
       "       [1.00000000e+00, 3.11689797e-20],\n",
       "       [1.00000000e+00, 1.78932478e-08],\n",
       "       [1.00000000e+00, 3.81511064e-31],\n",
       "       [1.00000000e+00, 2.80060224e-08],\n",
       "       [3.54846939e-02, 9.64515328e-01],\n",
       "       [3.82277727e-01, 6.17722273e-01],\n",
       "       [9.14038792e-02, 9.08596098e-01],\n",
       "       [1.00000000e+00, 1.95503014e-09],\n",
       "       [2.68850417e-04, 9.99731123e-01],\n",
       "       [3.05452812e-02, 9.69454706e-01],\n",
       "       [1.00000000e+00, 2.53492383e-09],\n",
       "       [1.00000000e+00, 1.49149368e-08],\n",
       "       [1.72030330e-02, 9.82796907e-01],\n",
       "       [2.35622361e-01, 7.64377654e-01],\n",
       "       [1.00000000e+00, 8.07865771e-30],\n",
       "       [9.99999046e-01, 9.83429345e-07],\n",
       "       [1.00000000e+00, 2.36423176e-14],\n",
       "       [9.99837160e-01, 1.62845055e-04],\n",
       "       [4.00212186e-04, 9.99599755e-01],\n",
       "       [6.40733633e-04, 9.99359310e-01],\n",
       "       [9.99984741e-01, 1.52134835e-05],\n",
       "       [1.00000000e+00, 1.25044863e-09],\n",
       "       [9.99999642e-01, 3.27343400e-07],\n",
       "       [1.00000000e+00, 1.44317555e-19],\n",
       "       [6.03733584e-03, 9.93962705e-01],\n",
       "       [6.00047759e-04, 9.99399900e-01],\n",
       "       [2.29882076e-04, 9.99770105e-01],\n",
       "       [9.99998927e-01, 1.13073861e-06],\n",
       "       [1.00000000e+00, 1.46902854e-08],\n",
       "       [3.22977372e-04, 9.99677062e-01],\n",
       "       [1.00000000e+00, 1.18919674e-09],\n",
       "       [1.00000000e+00, 7.27826723e-32],\n",
       "       [9.99999404e-01, 6.09120718e-07],\n",
       "       [2.56942818e-03, 9.97430623e-01],\n",
       "       [1.00000000e+00, 1.52941881e-09],\n",
       "       [9.99998689e-01, 1.34120069e-06],\n",
       "       [1.49482174e-03, 9.98505235e-01],\n",
       "       [9.99996901e-01, 3.08208428e-06],\n",
       "       [5.58534684e-03, 9.94414687e-01],\n",
       "       [3.13912006e-03, 9.96860862e-01],\n",
       "       [4.86336788e-03, 9.95136678e-01],\n",
       "       [1.00000000e+00, 2.05808738e-11],\n",
       "       [1.00000000e+00, 2.42547653e-08],\n",
       "       [9.83326733e-01, 1.66732613e-02],\n",
       "       [9.99997377e-01, 2.57797547e-06],\n",
       "       [1.00000000e+00, 5.64063124e-37],\n",
       "       [1.75645621e-03, 9.98243570e-01],\n",
       "       [1.00000000e+00, 7.95967079e-13],\n",
       "       [1.18684366e-04, 9.99881268e-01],\n",
       "       [3.82777140e-03, 9.96172249e-01],\n",
       "       [1.00000000e+00, 3.09222215e-17],\n",
       "       [1.00000000e+00, 1.06041153e-18],\n",
       "       [9.99997854e-01, 2.14924012e-06],\n",
       "       [6.28176406e-02, 9.37182367e-01],\n",
       "       [5.83403045e-03, 9.94165897e-01],\n",
       "       [1.00000000e+00, 8.77601991e-09],\n",
       "       [9.99709547e-01, 2.90387194e-04],\n",
       "       [7.72792264e-04, 9.99227166e-01],\n",
       "       [3.21911345e-03, 9.96780872e-01],\n",
       "       [1.00000000e+00, 1.21315619e-16],\n",
       "       [9.99995589e-01, 4.46459626e-06],\n",
       "       [1.00000000e+00, 2.53001980e-10],\n",
       "       [2.37717271e-01, 7.62282729e-01],\n",
       "       [9.89280641e-01, 1.07194260e-02],\n",
       "       [9.99999642e-01, 3.22517735e-07],\n",
       "       [2.33503338e-02, 9.76649642e-01],\n",
       "       [1.00000000e+00, 1.77695386e-17],\n",
       "       [2.76539981e-01, 7.23460019e-01],\n",
       "       [1.45263197e-02, 9.85473633e-01],\n",
       "       [9.99937177e-01, 6.28368653e-05],\n",
       "       [1.19541241e-02, 9.88045871e-01],\n",
       "       [2.04245397e-03, 9.97957587e-01],\n",
       "       [9.99948502e-01, 5.14458916e-05],\n",
       "       [9.99837637e-01, 1.62311466e-04],\n",
       "       [1.48771005e-03, 9.98512328e-01],\n",
       "       [1.00000000e+00, 7.89332818e-21],\n",
       "       [8.25288415e-01, 1.74711555e-01],\n",
       "       [9.77474148e-04, 9.99022484e-01],\n",
       "       [4.95259010e-04, 9.99504685e-01],\n",
       "       [9.99999523e-01, 5.06293873e-07],\n",
       "       [1.00000000e+00, 2.57053323e-10],\n",
       "       [9.05934349e-03, 9.90940690e-01],\n",
       "       [1.31644960e-02, 9.86835480e-01],\n",
       "       [1.08064199e-03, 9.98919368e-01],\n",
       "       [9.99945164e-01, 5.47971686e-05],\n",
       "       [5.28130401e-03, 9.94718671e-01],\n",
       "       [4.41486657e-01, 5.58513343e-01],\n",
       "       [1.77257543e-03, 9.98227417e-01],\n",
       "       [5.14791929e-04, 9.99485135e-01],\n",
       "       [7.46454298e-03, 9.92535472e-01],\n",
       "       [1.00000000e+00, 4.33309631e-14],\n",
       "       [9.96057272e-01, 3.94268660e-03],\n",
       "       [9.99999642e-01, 3.05274455e-07],\n",
       "       [9.99999762e-01, 2.52700886e-07],\n",
       "       [1.00000000e+00, 2.97826102e-14],\n",
       "       [1.00000000e+00, 4.76943051e-12],\n",
       "       [2.56259926e-04, 9.99743760e-01],\n",
       "       [3.13398577e-02, 9.68660116e-01],\n",
       "       [9.99999881e-01, 6.08751378e-08],\n",
       "       [9.99999881e-01, 8.43579642e-08],\n",
       "       [1.00000000e+00, 1.81796374e-08],\n",
       "       [9.82060313e-01, 1.79397035e-02],\n",
       "       [7.30722427e-01, 2.69277602e-01],\n",
       "       [3.14235641e-03, 9.96857643e-01],\n",
       "       [5.06731565e-04, 9.99493241e-01],\n",
       "       [1.00000000e+00, 3.63748246e-12],\n",
       "       [1.00000000e+00, 9.48893777e-21],\n",
       "       [1.78430812e-03, 9.98215675e-01],\n",
       "       [9.99996066e-01, 3.90638479e-06]], dtype=float32)"
      ]
     },
     "execution_count": 21,
     "metadata": {},
     "output_type": "execute_result"
    }
   ],
   "source": [
    "\n",
    "y_pred"
   ]
  },
  {
   "cell_type": "code",
   "execution_count": 22,
   "metadata": {},
   "outputs": [
    {
     "data": {
      "text/plain": [
       "(134, 2)"
      ]
     },
     "execution_count": 22,
     "metadata": {},
     "output_type": "execute_result"
    }
   ],
   "source": [
    "y_pred.shape"
   ]
  },
  {
   "cell_type": "code",
   "execution_count": 23,
   "metadata": {},
   "outputs": [],
   "source": [
    "\n",
    "import numpy as np\n",
    "y_pred = np.argmax(y_pred, axis=1)"
   ]
  },
  {
   "cell_type": "code",
   "execution_count": 24,
   "metadata": {},
   "outputs": [
    {
     "data": {
      "text/plain": [
       "array([1, 1, 1, 0, 1, 0, 0, 0, 1, 0, 0, 1, 0, 0, 1, 0, 0, 0, 0, 1, 1, 1,\n",
       "       1, 0, 1, 0, 0, 0, 0, 1, 1, 1, 0, 1, 1, 0, 0, 1, 1, 0, 0, 0, 0, 1,\n",
       "       1, 0, 0, 0, 0, 1, 1, 1, 0, 0, 1, 0, 0, 0, 1, 0, 0, 1, 0, 1, 1, 1,\n",
       "       0, 0, 0, 0, 0, 1, 0, 1, 1, 0, 0, 0, 1, 1, 0, 0, 1, 1, 0, 0, 0, 1,\n",
       "       0, 0, 1, 0, 1, 1, 0, 1, 1, 0, 0, 1, 0, 0, 1, 1, 0, 0, 1, 1, 1, 0,\n",
       "       1, 1, 1, 1, 1, 0, 0, 0, 0, 0, 0, 1, 1, 0, 0, 0, 0, 0, 1, 1, 0, 0,\n",
       "       1, 0], dtype=int64)"
      ]
     },
     "execution_count": 24,
     "metadata": {},
     "output_type": "execute_result"
    }
   ],
   "source": [
    "\n",
    "y_pred"
   ]
  },
  {
   "cell_type": "code",
   "execution_count": 25,
   "metadata": {},
   "outputs": [],
   "source": [
    "from tensorflow.keras.models import load_model\n",
    "from tensorflow.keras.preprocessing import image"
   ]
  },
  {
   "cell_type": "code",
   "execution_count": 26,
   "metadata": {},
   "outputs": [],
   "source": [
    "model=load_model('model_vgg19.h75')"
   ]
  },
  {
   "cell_type": "code",
   "execution_count": 470,
   "metadata": {},
   "outputs": [],
   "source": [
    "img=image.load_img('Dataset/Test/Parasite/11.png',target_size=(224,224))"
   ]
  },
  {
   "cell_type": "code",
   "execution_count": 471,
   "metadata": {},
   "outputs": [
    {
     "data": {
      "image/png": "[encoded data removed]",
      "text/plain": [
       "<PIL.Image.Image image mode=RGB size=224x224 at 0x17E01A57E88>"
      ]
     },
     "execution_count": 471,
     "metadata": {},
     "output_type": "execute_result"
    }
   ],
   "source": [
    "img"
   ]
  },
  {
   "cell_type": "code",
   "execution_count": 472,
   "metadata": {},
   "outputs": [
    {
     "data": {
      "text/plain": [
       "array([[[0., 0., 0.],\n",
       "        [0., 0., 0.],\n",
       "        [0., 0., 0.],\n",
       "        ...,\n",
       "        [0., 0., 0.],\n",
       "        [0., 0., 0.],\n",
       "        [0., 0., 0.]],\n",
       "\n",
       "       [[0., 0., 0.],\n",
       "        [0., 0., 0.],\n",
       "        [0., 0., 0.],\n",
       "        ...,\n",
       "        [0., 0., 0.],\n",
       "        [0., 0., 0.],\n",
       "        [0., 0., 0.]],\n",
       "\n",
       "       [[0., 0., 0.],\n",
       "        [0., 0., 0.],\n",
       "        [0., 0., 0.],\n",
       "        ...,\n",
       "        [0., 0., 0.],\n",
       "        [0., 0., 0.],\n",
       "        [0., 0., 0.]],\n",
       "\n",
       "       ...,\n",
       "\n",
       "       [[0., 0., 0.],\n",
       "        [0., 0., 0.],\n",
       "        [0., 0., 0.],\n",
       "        ...,\n",
       "        [0., 0., 0.],\n",
       "        [0., 0., 0.],\n",
       "        [0., 0., 0.]],\n",
       "\n",
       "       [[0., 0., 0.],\n",
       "        [0., 0., 0.],\n",
       "        [0., 0., 0.],\n",
       "        ...,\n",
       "        [0., 0., 0.],\n",
       "        [0., 0., 0.],\n",
       "        [0., 0., 0.]],\n",
       "\n",
       "       [[0., 0., 0.],\n",
       "        [0., 0., 0.],\n",
       "        [0., 0., 0.],\n",
       "        ...,\n",
       "        [0., 0., 0.],\n",
       "        [0., 0., 0.],\n",
       "        [0., 0., 0.]]], dtype=float32)"
      ]
     },
     "execution_count": 472,
     "metadata": {},
     "output_type": "execute_result"
    }
   ],
   "source": [
    "\n",
    "x=image.img_to_array(img)\n",
    "x"
   ]
  },
  {
   "cell_type": "code",
   "execution_count": 473,
   "metadata": {},
   "outputs": [],
   "source": [
    "\n",
    "x=x/255"
   ]
  },
  {
   "cell_type": "code",
   "execution_count": 475,
   "metadata": {},
   "outputs": [
    {
     "data": {
      "text/plain": [
       "(224, 224, 3)"
      ]
     },
     "execution_count": 475,
     "metadata": {},
     "output_type": "execute_result"
    }
   ],
   "source": [
    "x.shape"
   ]
  },
  {
   "cell_type": "code",
   "execution_count": 476,
   "metadata": {},
   "outputs": [],
   "source": [
    "x1 = x.reshape(-1,224,224,3)"
   ]
  },
  {
   "cell_type": "code",
   "execution_count": 468,
   "metadata": {},
   "outputs": [
    {
     "data": {
      "text/plain": [
       "(1, 224, 224, 3)"
      ]
     },
     "execution_count": 468,
     "metadata": {},
     "output_type": "execute_result"
    }
   ],
   "source": [
    "x=np.expand_dims(x,axis=0)\n",
    "img_data=preprocess_input(x)\n",
    "img_data.shape"
   ]
  },
  {
   "cell_type": "code",
   "execution_count": 464,
   "metadata": {},
   "outputs": [],
   "source": [
    "y =model.predict(img_data)\n"
   ]
  },
  {
   "cell_type": "code",
   "execution_count": 477,
   "metadata": {},
   "outputs": [
    {
     "data": {
      "text/plain": [
       "array([[9.9999785e-01, 2.1492319e-06]], dtype=float32)"
      ]
     },
     "execution_count": 477,
     "metadata": {},
     "output_type": "execute_result"
    }
   ],
   "source": [
    "z =model.predict(x1)\n",
    "z"
   ]
  },
  {
   "cell_type": "code",
   "execution_count": 465,
   "metadata": {},
   "outputs": [
    {
     "data": {
      "text/plain": [
       "(1, 2)"
      ]
     },
     "execution_count": 465,
     "metadata": {},
     "output_type": "execute_result"
    }
   ],
   "source": [
    "y.shape"
   ]
  },
  {
   "cell_type": "code",
   "execution_count": 466,
   "metadata": {},
   "outputs": [
    {
     "data": {
      "text/plain": [
       "array([[0., 1.]], dtype=float32)"
      ]
     },
     "execution_count": 466,
     "metadata": {},
     "output_type": "execute_result"
    }
   ],
   "source": [
    "y"
   ]
  },
  {
   "cell_type": "code",
   "execution_count": 426,
   "metadata": {},
   "outputs": [],
   "source": [
    "a=np.argmax(y)"
   ]
  },
  {
   "cell_type": "code",
   "execution_count": 427,
   "metadata": {},
   "outputs": [
    {
     "data": {
      "text/plain": [
       "1"
      ]
     },
     "execution_count": 427,
     "metadata": {},
     "output_type": "execute_result"
    }
   ],
   "source": [
    "a"
   ]
  },
  {
   "cell_type": "code",
   "execution_count": 428,
   "metadata": {},
   "outputs": [
    {
     "name": "stdout",
     "output_type": "stream",
     "text": [
      "Uninfected\n"
     ]
    }
   ],
   "source": [
    "if(a==1):\n",
    "    print(\"Uninfected\")\n",
    "else:\n",
    "    print(\"Infected\")"
   ]
  },
  {
   "cell_type": "code",
   "execution_count": 431,
   "metadata": {},
   "outputs": [],
   "source": [
    "img1=image.load_img('Dataset/Test/Uninfected/11.png',target_size=(224,224))"
   ]
  },
  {
   "cell_type": "code",
   "execution_count": 432,
   "metadata": {},
   "outputs": [
    {
     "data": {
      "image/png": "[encoded data removed]",
      "text/plain": [
       "<PIL.Image.Image image mode=RGB size=224x224 at 0x17E00283A88>"
      ]
     },
     "execution_count": 432,
     "metadata": {},
     "output_type": "execute_result"
    }
   ],
   "source": [
    "img1"
   ]
  },
  {
   "cell_type": "code",
   "execution_count": 433,
   "metadata": {},
   "outputs": [],
   "source": [
    "x1=image.img_to_array(img1)"
   ]
  },
  {
   "cell_type": "code",
   "execution_count": 434,
   "metadata": {},
   "outputs": [
    {
     "ename": "ValueError",
     "evalue": "The truth value of an array with more than one element is ambiguous. Use a.any() or a.all()",
     "output_type": "error",
     "traceback": [
      "\u001b[1;31m---------------------------------------------------------------------------\u001b[0m",
      "\u001b[1;31mValueError\u001b[0m                                Traceback (most recent call last)",
      "\u001b[1;32m<ipython-input-434-7d0de84424ee>\u001b[0m in \u001b[0;36m<module>\u001b[1;34m\u001b[0m\n\u001b[1;32m----> 1\u001b[1;33m \u001b[1;32mif\u001b[0m \u001b[0mx\u001b[0m \u001b[1;33m==\u001b[0m\u001b[0mx1\u001b[0m\u001b[1;33m:\u001b[0m\u001b[1;33m\u001b[0m\u001b[1;33m\u001b[0m\u001b[0m\n\u001b[0m\u001b[0;32m      2\u001b[0m     \u001b[0mprint\u001b[0m\u001b[1;33m(\u001b[0m\u001b[1;34m\"fuck\"\u001b[0m\u001b[1;33m)\u001b[0m\u001b[1;33m\u001b[0m\u001b[1;33m\u001b[0m\u001b[0m\n\u001b[0;32m      3\u001b[0m \u001b[1;32melse\u001b[0m\u001b[1;33m:\u001b[0m\u001b[1;33m\u001b[0m\u001b[1;33m\u001b[0m\u001b[0m\n\u001b[0;32m      4\u001b[0m     \u001b[0mprint\u001b[0m\u001b[1;33m(\u001b[0m\u001b[1;34m\"alright\"\u001b[0m\u001b[1;33m)\u001b[0m\u001b[1;33m\u001b[0m\u001b[1;33m\u001b[0m\u001b[0m\n",
      "\u001b[1;31mValueError\u001b[0m: The truth value of an array with more than one element is ambiguous. Use a.any() or a.all()"
     ]
    }
   ],
   "source": [
    "if x ==x1:\n",
    "    print(\"fuck\")\n",
    "else:\n",
    "    print(\"alright\")"
   ]
  },
  {
   "cell_type": "code",
   "execution_count": null,
   "metadata": {},
   "outputs": [],
   "source": []
  }
 ],
 "metadata": {
  "kernelspec": {
   "display_name": "Python 3",
   "language": "python",
   "name": "python3"
  },
  "language_info": {
   "codemirror_mode": {
    "name": "ipython",
    "version": 3
   },
   "file_extension": ".py",
   "mimetype": "text/x-python",
   "name": "python",
   "nbconvert_exporter": "python",
   "pygments_lexer": "ipython3",
   "version": "3.7.9"
  }
 },
 "nbformat": 4,
 "nbformat_minor": 4
}
