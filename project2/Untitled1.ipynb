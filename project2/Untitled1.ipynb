{
 "cells": [
  {
   "cell_type": "code",
   "execution_count": 1,
   "metadata": {},
   "outputs": [],
   "source": [
    "from tensorflow.keras.layers import Input, Lambda, Dense, Flatten,Conv2D\n",
    "from tensorflow.keras.models import Model\n",
    "from tensorflow.keras.applications.vgg19 import VGG19\n",
    "from tensorflow.keras.applications.resnet50 import preprocess_input\n",
    "from tensorflow.keras.preprocessing import image\n",
    "from tensorflow.keras.preprocessing.image import ImageDataGenerator,load_img\n",
    "from tensorflow.keras.models import Sequential, load_model, save_model, Model\n",
    "import numpy as np\n",
    "from glob import glob\n",
    "import matplotlib.pyplot as plt\n",
    "import pickle\n",
    "import tempfile\n",
    "from tensorflow.python.keras.layers import deserialize, serialize\n",
    "from tensorflow.python.keras.saving import saving_utils"
   ]
  },
  {
   "cell_type": "code",
   "execution_count": 2,
   "metadata": {},
   "outputs": [],
   "source": [
    "\n",
    "def unpack(model, training_config, weights):\n",
    "    restored_model = deserialize(model)\n",
    "    if training_config is not None:\n",
    "        restored_model.compile(\n",
    "            **saving_utils.compile_args_from_training_config(\n",
    "                training_config\n",
    "            )\n",
    "        )\n",
    "    restored_model.set_weights(weights)\n",
    "    return restored_model\n",
    "\n",
    "# Hotfix function\n",
    "def make_keras_picklable():\n",
    "\n",
    "    def __reduce__(self):\n",
    "        model_metadata = saving_utils.model_metadata(self)\n",
    "        training_config = model_metadata.get(\"training_config\", None)\n",
    "        model = serialize(self)\n",
    "        weights = self.get_weights()\n",
    "        return (unpack, (model, training_config, weights))\n",
    "\n",
    "    cls = Model\n",
    "    cls.__reduce__ = __reduce__\n",
    "\n",
    "# Run the function\n",
    "make_keras_picklable()\n"
   ]
  },
  {
   "cell_type": "code",
   "execution_count": 3,
   "metadata": {},
   "outputs": [],
   "source": [
    "# re sizing all images\n",
    "IMAGE_SIZE = [224, 224]\n",
    "\n",
    "train_path = 'cell_images/Train'\n",
    "valid_path = 'cell_images/Test'"
   ]
  },
  {
   "cell_type": "code",
   "execution_count": 4,
   "metadata": {},
   "outputs": [],
   "source": [
    "# Importing the Vgg 16 \n",
    "model1 = VGG19(input_shape=IMAGE_SIZE + [3], weights='imagenet', include_top=False)"
   ]
  },
  {
   "cell_type": "code",
   "execution_count": 5,
   "metadata": {},
   "outputs": [],
   "source": [
    "\n",
    "# don't train existing weights\n",
    "for layer in model1.layers:\n",
    "    layer.trainable = False"
   ]
  },
  {
   "cell_type": "code",
   "execution_count": 6,
   "metadata": {},
   "outputs": [],
   "source": [
    "folders = glob('Dataset/Train/*')"
   ]
  },
  {
   "cell_type": "code",
   "execution_count": 7,
   "metadata": {},
   "outputs": [
    {
     "data": {
      "text/plain": [
       "['Dataset/Train\\\\Parasite', 'Dataset/Train\\\\Uninfected']"
      ]
     },
     "execution_count": 7,
     "metadata": {},
     "output_type": "execute_result"
    }
   ],
   "source": [
    "folders"
   ]
  },
  {
   "cell_type": "code",
   "execution_count": 8,
   "metadata": {},
   "outputs": [],
   "source": [
    "\n",
    "# our layers - you can add more if you want\n",
    "x = Flatten()(model1.output)"
   ]
  },
  {
   "cell_type": "code",
   "execution_count": 9,
   "metadata": {},
   "outputs": [],
   "source": [
    "\n",
    "prediction = Dense(len(folders), activation='softmax')(x)\n",
    "\n",
    "# create a model object\n",
    "model = Model(inputs=model1.input, outputs=prediction)"
   ]
  },
  {
   "cell_type": "code",
   "execution_count": 10,
   "metadata": {},
   "outputs": [
    {
     "name": "stdout",
     "output_type": "stream",
     "text": [
      "Model: \"model\"\n",
      "_________________________________________________________________\n",
      "Layer (type)                 Output Shape              Param #   \n",
      "=================================================================\n",
      "input_1 (InputLayer)         [(None, 224, 224, 3)]     0         \n",
      "_________________________________________________________________\n",
      "block1_conv1 (Conv2D)        (None, 224, 224, 64)      1792      \n",
      "_________________________________________________________________\n",
      "block1_conv2 (Conv2D)        (None, 224, 224, 64)      36928     \n",
      "_________________________________________________________________\n",
      "block1_pool (MaxPooling2D)   (None, 112, 112, 64)      0         \n",
      "_________________________________________________________________\n",
      "block2_conv1 (Conv2D)        (None, 112, 112, 128)     73856     \n",
      "_________________________________________________________________\n",
      "block2_conv2 (Conv2D)        (None, 112, 112, 128)     147584    \n",
      "_________________________________________________________________\n",
      "block2_pool (MaxPooling2D)   (None, 56, 56, 128)       0         \n",
      "_________________________________________________________________\n",
      "block3_conv1 (Conv2D)        (None, 56, 56, 256)       295168    \n",
      "_________________________________________________________________\n",
      "block3_conv2 (Conv2D)        (None, 56, 56, 256)       590080    \n",
      "_________________________________________________________________\n",
      "block3_conv3 (Conv2D)        (None, 56, 56, 256)       590080    \n",
      "_________________________________________________________________\n",
      "block3_conv4 (Conv2D)        (None, 56, 56, 256)       590080    \n",
      "_________________________________________________________________\n",
      "block3_pool (MaxPooling2D)   (None, 28, 28, 256)       0         \n",
      "_________________________________________________________________\n",
      "block4_conv1 (Conv2D)        (None, 28, 28, 512)       1180160   \n",
      "_________________________________________________________________\n",
      "block4_conv2 (Conv2D)        (None, 28, 28, 512)       2359808   \n",
      "_________________________________________________________________\n",
      "block4_conv3 (Conv2D)        (None, 28, 28, 512)       2359808   \n",
      "_________________________________________________________________\n",
      "block4_conv4 (Conv2D)        (None, 28, 28, 512)       2359808   \n",
      "_________________________________________________________________\n",
      "block4_pool (MaxPooling2D)   (None, 14, 14, 512)       0         \n",
      "_________________________________________________________________\n",
      "block5_conv1 (Conv2D)        (None, 14, 14, 512)       2359808   \n",
      "_________________________________________________________________\n",
      "block5_conv2 (Conv2D)        (None, 14, 14, 512)       2359808   \n",
      "_________________________________________________________________\n",
      "block5_conv3 (Conv2D)        (None, 14, 14, 512)       2359808   \n",
      "_________________________________________________________________\n",
      "block5_conv4 (Conv2D)        (None, 14, 14, 512)       2359808   \n",
      "_________________________________________________________________\n",
      "block5_pool (MaxPooling2D)   (None, 7, 7, 512)         0         \n",
      "_________________________________________________________________\n",
      "flatten (Flatten)            (None, 25088)             0         \n",
      "_________________________________________________________________\n",
      "dense (Dense)                (None, 2)                 50178     \n",
      "=================================================================\n",
      "Total params: 20,074,562\n",
      "Trainable params: 50,178\n",
      "Non-trainable params: 20,024,384\n",
      "_________________________________________________________________\n"
     ]
    }
   ],
   "source": [
    "model.summary()"
   ]
  },
  {
   "cell_type": "code",
   "execution_count": 11,
   "metadata": {},
   "outputs": [],
   "source": [
    "\n",
    "from tensorflow.keras.layers import MaxPooling2D"
   ]
  },
  {
   "cell_type": "code",
   "execution_count": 12,
   "metadata": {},
   "outputs": [
    {
     "name": "stdout",
     "output_type": "stream",
     "text": [
      "Model: \"sequential\"\n",
      "_________________________________________________________________\n",
      "Layer (type)                 Output Shape              Param #   \n",
      "=================================================================\n",
      "conv2d (Conv2D)              (None, 224, 224, 16)      208       \n",
      "_________________________________________________________________\n",
      "max_pooling2d (MaxPooling2D) (None, 112, 112, 16)      0         \n",
      "_________________________________________________________________\n",
      "conv2d_1 (Conv2D)            (None, 112, 112, 32)      2080      \n",
      "_________________________________________________________________\n",
      "max_pooling2d_1 (MaxPooling2 (None, 56, 56, 32)        0         \n",
      "_________________________________________________________________\n",
      "conv2d_2 (Conv2D)            (None, 56, 56, 64)        8256      \n",
      "_________________________________________________________________\n",
      "max_pooling2d_2 (MaxPooling2 (None, 28, 28, 64)        0         \n",
      "_________________________________________________________________\n",
      "flatten_1 (Flatten)          (None, 50176)             0         \n",
      "_________________________________________________________________\n",
      "dense_1 (Dense)              (None, 500)               25088500  \n",
      "_________________________________________________________________\n",
      "dense_2 (Dense)              (None, 2)                 1002      \n",
      "=================================================================\n",
      "Total params: 25,100,046\n",
      "Trainable params: 25,100,046\n",
      "Non-trainable params: 0\n",
      "_________________________________________________________________\n"
     ]
    }
   ],
   "source": [
    "model=Sequential()\n",
    "model.add(Conv2D(filters=16,kernel_size=2,padding=\"same\",activation=\"relu\",input_shape=(224,224,3)))\n",
    "model.add(MaxPooling2D(pool_size=2))\n",
    "model.add(Conv2D(filters=32,kernel_size=2,padding=\"same\",activation =\"relu\"))\n",
    "model.add(MaxPooling2D(pool_size=2))\n",
    "model.add(Conv2D(filters=64,kernel_size=2,padding=\"same\",activation=\"relu\"))\n",
    "model.add(MaxPooling2D(pool_size=2))\n",
    "model.add(Flatten())\n",
    "model.add(Dense(500,activation=\"relu\"))\n",
    "model.add(Dense(2,activation=\"softmax\"))\n",
    "model.summary()"
   ]
  },
  {
   "cell_type": "code",
   "execution_count": 13,
   "metadata": {},
   "outputs": [],
   "source": [
    "model.compile(\n",
    "  loss='categorical_crossentropy',\n",
    "  optimizer='adam',\n",
    "  metrics=['accuracy']\n",
    ")"
   ]
  },
  {
   "cell_type": "code",
   "execution_count": 14,
   "metadata": {},
   "outputs": [],
   "source": [
    "from tensorflow.keras.preprocessing.image import ImageDataGenerator\n",
    "\n",
    "train_datagen = ImageDataGenerator(rescale = 1./255,\n",
    "                                   shear_range = 0.2,\n",
    "                                   zoom_range = 0.2,\n",
    "                                   horizontal_flip = True)\n",
    "\n",
    "test_datagen = ImageDataGenerator(rescale = 1./255)"
   ]
  },
  {
   "cell_type": "code",
   "execution_count": 15,
   "metadata": {},
   "outputs": [
    {
     "name": "stdout",
     "output_type": "stream",
     "text": [
      "Found 416 images belonging to 2 classes.\n"
     ]
    }
   ],
   "source": [
    "training_set = train_datagen.flow_from_directory('Dataset/Train',\n",
    "                                                 target_size = (224, 224),\n",
    "                                                 batch_size = 32,\n",
    "                                                 class_mode = 'categorical')"
   ]
  },
  {
   "cell_type": "code",
   "execution_count": 16,
   "metadata": {},
   "outputs": [
    {
     "data": {
      "text/plain": [
       "<keras_preprocessing.image.directory_iterator.DirectoryIterator at 0x19dbcf41148>"
      ]
     },
     "execution_count": 16,
     "metadata": {},
     "output_type": "execute_result"
    }
   ],
   "source": [
    "\n",
    "training_set"
   ]
  },
  {
   "cell_type": "code",
   "execution_count": 17,
   "metadata": {},
   "outputs": [
    {
     "name": "stdout",
     "output_type": "stream",
     "text": [
      "Found 134 images belonging to 2 classes.\n"
     ]
    }
   ],
   "source": [
    "test_set = test_datagen.flow_from_directory('Dataset/Test',\n",
    "                                            target_size = (224, 224),\n",
    "                                            batch_size = 32,\n",
    "                                            class_mode = 'categorical')"
   ]
  },
  {
   "cell_type": "code",
   "execution_count": 18,
   "metadata": {},
   "outputs": [
    {
     "name": "stdout",
     "output_type": "stream",
     "text": [
      "WARNING:tensorflow:From <ipython-input-18-070b10e8c207>:6: Model.fit_generator (from tensorflow.python.keras.engine.training) is deprecated and will be removed in a future version.\n",
      "Instructions for updating:\n",
      "Please use Model.fit, which supports generators.\n",
      "Epoch 1/50\n",
      "13/13 [==============================] - 27s 2s/step - loss: 1.7049 - accuracy: 0.5337 - val_loss: 0.7586 - val_accuracy: 0.3209\n",
      "Epoch 2/50\n",
      "13/13 [==============================] - 19s 1s/step - loss: 0.6869 - accuracy: 0.5409 - val_loss: 0.6827 - val_accuracy: 0.5672\n",
      "Epoch 3/50\n",
      "13/13 [==============================] - 18s 1s/step - loss: 0.6700 - accuracy: 0.5673 - val_loss: 0.6517 - val_accuracy: 0.6791\n",
      "Epoch 4/50\n",
      "13/13 [==============================] - 17s 1s/step - loss: 0.6388 - accuracy: 0.6226 - val_loss: 0.6951 - val_accuracy: 0.5075\n",
      "Epoch 5/50\n",
      "13/13 [==============================] - 18s 1s/step - loss: 0.5137 - accuracy: 0.7332 - val_loss: 1.0355 - val_accuracy: 0.3731\n",
      "Epoch 6/50\n",
      "13/13 [==============================] - 18s 1s/step - loss: 0.4343 - accuracy: 0.7812 - val_loss: 0.8200 - val_accuracy: 0.5224\n",
      "Epoch 7/50\n",
      "13/13 [==============================] - 18s 1s/step - loss: 0.3211 - accuracy: 0.8606 - val_loss: 0.7024 - val_accuracy: 0.6194\n",
      "Epoch 8/50\n",
      "13/13 [==============================] - 19s 1s/step - loss: 0.2660 - accuracy: 0.8846 - val_loss: 0.6356 - val_accuracy: 0.6940\n",
      "Epoch 9/50\n",
      "13/13 [==============================] - 18s 1s/step - loss: 0.1993 - accuracy: 0.9327 - val_loss: 0.6748 - val_accuracy: 0.7463\n",
      "Epoch 10/50\n",
      "13/13 [==============================] - 17s 1s/step - loss: 0.2035 - accuracy: 0.9279 - val_loss: 0.3017 - val_accuracy: 0.8731\n",
      "Epoch 11/50\n",
      "13/13 [==============================] - 18s 1s/step - loss: 0.1624 - accuracy: 0.9519 - val_loss: 0.2739 - val_accuracy: 0.9104\n",
      "Epoch 12/50\n",
      "13/13 [==============================] - 17s 1s/step - loss: 0.1604 - accuracy: 0.9495 - val_loss: 0.2836 - val_accuracy: 0.8806\n",
      "Epoch 13/50\n",
      "13/13 [==============================] - 18s 1s/step - loss: 0.1532 - accuracy: 0.9567 - val_loss: 0.3531 - val_accuracy: 0.8433\n",
      "Epoch 14/50\n",
      "13/13 [==============================] - 20s 2s/step - loss: 0.1368 - accuracy: 0.9543 - val_loss: 0.2361 - val_accuracy: 0.9030\n",
      "Epoch 15/50\n",
      "13/13 [==============================] - 17s 1s/step - loss: 0.1143 - accuracy: 0.9663 - val_loss: 0.5626 - val_accuracy: 0.7687\n",
      "Epoch 16/50\n",
      "13/13 [==============================] - 18s 1s/step - loss: 0.1683 - accuracy: 0.9327 - val_loss: 0.3690 - val_accuracy: 0.8284\n",
      "Epoch 17/50\n",
      "13/13 [==============================] - 18s 1s/step - loss: 0.1137 - accuracy: 0.9688 - val_loss: 0.2136 - val_accuracy: 0.8881\n",
      "Epoch 18/50\n",
      "13/13 [==============================] - 18s 1s/step - loss: 0.1100 - accuracy: 0.9760 - val_loss: 0.6187 - val_accuracy: 0.7761\n",
      "Epoch 19/50\n",
      "13/13 [==============================] - 18s 1s/step - loss: 0.1891 - accuracy: 0.9279 - val_loss: 0.4710 - val_accuracy: 0.7612\n",
      "Epoch 20/50\n",
      "13/13 [==============================] - 19s 1s/step - loss: 0.1647 - accuracy: 0.9351 - val_loss: 0.3309 - val_accuracy: 0.8507\n",
      "Epoch 21/50\n",
      "13/13 [==============================] - 18s 1s/step - loss: 0.1130 - accuracy: 0.9591 - val_loss: 0.1807 - val_accuracy: 0.9179\n",
      "Epoch 22/50\n",
      "13/13 [==============================] - 18s 1s/step - loss: 0.0666 - accuracy: 0.9808 - val_loss: 0.1677 - val_accuracy: 0.9179\n",
      "Epoch 23/50\n",
      "13/13 [==============================] - 18s 1s/step - loss: 0.0461 - accuracy: 0.9904 - val_loss: 0.1694 - val_accuracy: 0.9328\n",
      "Epoch 24/50\n",
      "13/13 [==============================] - 18s 1s/step - loss: 0.0798 - accuracy: 0.9832 - val_loss: 0.2367 - val_accuracy: 0.9179\n",
      "Epoch 25/50\n",
      "13/13 [==============================] - 17s 1s/step - loss: 0.0806 - accuracy: 0.9736 - val_loss: 0.2304 - val_accuracy: 0.9030\n",
      "Epoch 26/50\n",
      "13/13 [==============================] - 19s 1s/step - loss: 0.0522 - accuracy: 0.9856 - val_loss: 0.2320 - val_accuracy: 0.9030\n",
      "Epoch 27/50\n",
      "13/13 [==============================] - 18s 1s/step - loss: 0.0577 - accuracy: 0.9784 - val_loss: 0.1443 - val_accuracy: 0.9478\n",
      "Epoch 28/50\n",
      "13/13 [==============================] - 17s 1s/step - loss: 0.0360 - accuracy: 0.9928 - val_loss: 0.2155 - val_accuracy: 0.9403\n",
      "Epoch 29/50\n",
      "13/13 [==============================] - 17s 1s/step - loss: 0.0702 - accuracy: 0.9760 - val_loss: 0.3552 - val_accuracy: 0.8657\n",
      "Epoch 30/50\n",
      "13/13 [==============================] - 17s 1s/step - loss: 0.0998 - accuracy: 0.9663 - val_loss: 0.2989 - val_accuracy: 0.8806\n",
      "Epoch 31/50\n",
      "13/13 [==============================] - 18s 1s/step - loss: 0.0752 - accuracy: 0.9760 - val_loss: 0.1681 - val_accuracy: 0.9254\n",
      "Epoch 32/50\n",
      "13/13 [==============================] - 20s 2s/step - loss: 0.0522 - accuracy: 0.9904 - val_loss: 0.3617 - val_accuracy: 0.8881\n",
      "Epoch 33/50\n",
      "13/13 [==============================] - 18s 1s/step - loss: 0.0728 - accuracy: 0.9784 - val_loss: 0.2897 - val_accuracy: 0.8955\n",
      "Epoch 34/50\n",
      "13/13 [==============================] - 17s 1s/step - loss: 0.0576 - accuracy: 0.9808 - val_loss: 0.1331 - val_accuracy: 0.9478\n",
      "Epoch 35/50\n",
      "13/13 [==============================] - 17s 1s/step - loss: 0.0335 - accuracy: 0.9928 - val_loss: 0.2147 - val_accuracy: 0.9328\n",
      "Epoch 36/50\n",
      "13/13 [==============================] - 17s 1s/step - loss: 0.0321 - accuracy: 0.9856 - val_loss: 0.2184 - val_accuracy: 0.9254\n",
      "Epoch 37/50\n",
      "13/13 [==============================] - 17s 1s/step - loss: 0.0358 - accuracy: 0.9928 - val_loss: 0.2445 - val_accuracy: 0.9104\n",
      "Epoch 38/50\n",
      "13/13 [==============================] - 19s 1s/step - loss: 0.0289 - accuracy: 0.9928 - val_loss: 0.1433 - val_accuracy: 0.9552\n",
      "Epoch 39/50\n",
      "13/13 [==============================] - 18s 1s/step - loss: 0.0140 - accuracy: 0.9976 - val_loss: 0.1981 - val_accuracy: 0.9328\n",
      "Epoch 40/50\n",
      "13/13 [==============================] - 17s 1s/step - loss: 0.0232 - accuracy: 0.9904 - val_loss: 0.1780 - val_accuracy: 0.9552\n",
      "Epoch 41/50\n",
      "13/13 [==============================] - 17s 1s/step - loss: 0.0219 - accuracy: 0.9976 - val_loss: 0.1771 - val_accuracy: 0.9328\n",
      "Epoch 42/50\n",
      "13/13 [==============================] - 17s 1s/step - loss: 0.0128 - accuracy: 0.9952 - val_loss: 0.2011 - val_accuracy: 0.9328\n",
      "Epoch 43/50\n",
      "13/13 [==============================] - 17s 1s/step - loss: 0.0171 - accuracy: 0.9952 - val_loss: 0.1447 - val_accuracy: 0.9478\n",
      "Epoch 44/50\n",
      "13/13 [==============================] - 19s 1s/step - loss: 0.0208 - accuracy: 0.9928 - val_loss: 0.2682 - val_accuracy: 0.9030\n",
      "Epoch 45/50\n",
      "13/13 [==============================] - 17s 1s/step - loss: 0.0261 - accuracy: 0.9952 - val_loss: 0.3923 - val_accuracy: 0.8806\n",
      "Epoch 46/50\n",
      "13/13 [==============================] - 18s 1s/step - loss: 0.0721 - accuracy: 0.9904 - val_loss: 0.2796 - val_accuracy: 0.8955\n",
      "Epoch 47/50\n",
      "13/13 [==============================] - 17s 1s/step - loss: 0.0811 - accuracy: 0.9663 - val_loss: 0.5284 - val_accuracy: 0.8358\n",
      "Epoch 48/50\n",
      "13/13 [==============================] - 17s 1s/step - loss: 0.1194 - accuracy: 0.9639 - val_loss: 0.2348 - val_accuracy: 0.8955\n",
      "Epoch 49/50\n",
      "13/13 [==============================] - 18s 1s/step - loss: 0.0438 - accuracy: 0.9880 - val_loss: 0.1709 - val_accuracy: 0.9328\n",
      "Epoch 50/50\n",
      "13/13 [==============================] - 18s 1s/step - loss: 0.0240 - accuracy: 0.9928 - val_loss: 0.1262 - val_accuracy: 0.9552\n"
     ]
    }
   ],
   "source": [
    "r = model.fit_generator(\n",
    "  training_set,\n",
    "  validation_data=test_set,\n",
    "  epochs=50,\n",
    "  steps_per_epoch=len(training_set),\n",
    "  validation_steps=len(test_set)\n",
    ")"
   ]
  },
  {
   "cell_type": "code",
   "execution_count": 19,
   "metadata": {},
   "outputs": [
    {
     "data": {
      "image/png": "[encoded data removed]",
      "text/plain": [
       "<Figure size 432x288 with 1 Axes>"
      ]
     },
     "metadata": {
      "needs_background": "light"
     },
     "output_type": "display_data"
    },
    {
     "data": {
      "image/png": "[encoded data removed]",
      "text/plain": [
       "<Figure size 432x288 with 1 Axes>"
      ]
     },
     "metadata": {
      "needs_background": "light"
     },
     "output_type": "display_data"
    },
    {
     "data": {
      "text/plain": [
       "<Figure size 432x288 with 0 Axes>"
      ]
     },
     "metadata": {},
     "output_type": "display_data"
    }
   ],
   "source": [
    "# plot the loss\n",
    "plt.plot(r.history['loss'], label='train loss')\n",
    "plt.plot(r.history['val_loss'], label='val loss')\n",
    "plt.legend()\n",
    "plt.show()\n",
    "plt.savefig('LossVal_loss')\n",
    "\n",
    "# plot the accuracy\n",
    "plt.plot(r.history['accuracy'], label='train acc')\n",
    "plt.plot(r.history['val_accuracy'], label='val acc')\n",
    "plt.legend()\n",
    "plt.show()\n",
    "plt.savefig('AccVal_acc')"
   ]
  },
  {
   "cell_type": "code",
   "execution_count": 20,
   "metadata": {},
   "outputs": [],
   "source": [
    "#model.save(\"model.h5\")"
   ]
  },
  {
   "cell_type": "code",
   "execution_count": 21,
   "metadata": {},
   "outputs": [],
   "source": [
    "with open('model.pkl', 'wb') as f:\n",
    "    pickle.dump(model, f)"
   ]
  },
  {
   "cell_type": "code",
   "execution_count": 22,
   "metadata": {},
   "outputs": [],
   "source": [
    "y_pred = model.predict(test_set)"
   ]
  },
  {
   "cell_type": "code",
   "execution_count": 23,
   "metadata": {},
   "outputs": [
    {
     "data": {
      "text/plain": [
       "array([[1.00000000e+00, 6.30437746e-14],\n",
       "       [1.00000000e+00, 3.50069659e-19],\n",
       "       [9.99999881e-01, 1.51209804e-07],\n",
       "       [1.00000000e+00, 2.73890084e-08],\n",
       "       [1.00000000e+00, 1.74945317e-15],\n",
       "       [3.46664432e-03, 9.96533394e-01],\n",
       "       [6.76408827e-01, 3.23591143e-01],\n",
       "       [1.00000000e+00, 2.09749583e-14],\n",
       "       [1.05662253e-02, 9.89433825e-01],\n",
       "       [1.00000000e+00, 1.85184690e-09],\n",
       "       [1.00000000e+00, 1.26277243e-17],\n",
       "       [6.99936273e-03, 9.93000627e-01],\n",
       "       [1.00000000e+00, 4.69845256e-12],\n",
       "       [6.29577041e-03, 9.93704259e-01],\n",
       "       [1.00000000e+00, 1.45276000e-10],\n",
       "       [1.00000000e+00, 3.52990305e-19],\n",
       "       [9.78917897e-01, 2.10821368e-02],\n",
       "       [1.00000000e+00, 0.00000000e+00],\n",
       "       [5.62201347e-03, 9.94377911e-01],\n",
       "       [1.00000000e+00, 8.00081001e-10],\n",
       "       [7.25555122e-02, 9.27444458e-01],\n",
       "       [4.76303045e-03, 9.95236993e-01],\n",
       "       [3.73664349e-02, 9.62633550e-01],\n",
       "       [3.30226496e-02, 9.66977358e-01],\n",
       "       [5.64086856e-03, 9.94359195e-01],\n",
       "       [1.00000000e+00, 1.26892116e-37],\n",
       "       [8.38903245e-03, 9.91610944e-01],\n",
       "       [7.89815094e-03, 9.92101848e-01],\n",
       "       [2.48688553e-02, 9.75131214e-01],\n",
       "       [1.00000000e+00, 6.42357868e-12],\n",
       "       [1.05890043e-01, 8.94110024e-01],\n",
       "       [1.00000000e+00, 6.00809180e-09],\n",
       "       [2.98038684e-02, 9.70196128e-01],\n",
       "       [9.99997377e-01, 2.66498887e-06],\n",
       "       [1.00000000e+00, 6.93887135e-12],\n",
       "       [9.99998569e-01, 1.42280726e-06],\n",
       "       [1.00000000e+00, 1.79091075e-10],\n",
       "       [1.00000000e+00, 4.88064451e-08],\n",
       "       [1.00000000e+00, 2.17848522e-14],\n",
       "       [1.00000000e+00, 9.49435300e-13],\n",
       "       [1.00000000e+00, 2.23259633e-08],\n",
       "       [1.93529036e-02, 9.80647087e-01],\n",
       "       [1.00000000e+00, 1.64133489e-08],\n",
       "       [1.00000000e+00, 1.00132613e-27],\n",
       "       [9.99999404e-01, 5.82106850e-07],\n",
       "       [1.00000000e+00, 0.00000000e+00],\n",
       "       [9.90584910e-01, 9.41508915e-03],\n",
       "       [9.88561988e-01, 1.14379907e-02],\n",
       "       [8.58677775e-02, 9.14132297e-01],\n",
       "       [3.13820387e-03, 9.96861815e-01],\n",
       "       [9.99997973e-01, 2.04089042e-06],\n",
       "       [1.96389612e-02, 9.80360985e-01],\n",
       "       [2.04799064e-02, 9.79520082e-01],\n",
       "       [1.46254245e-02, 9.85374570e-01],\n",
       "       [2.24555228e-02, 9.77544427e-01],\n",
       "       [3.41513800e-03, 9.96584892e-01],\n",
       "       [5.84381782e-02, 9.41561818e-01],\n",
       "       [9.99999404e-01, 5.82354460e-07],\n",
       "       [1.00000000e+00, 1.85016116e-37],\n",
       "       [1.00000000e+00, 1.66113767e-09],\n",
       "       [9.99946475e-01, 5.35390973e-05],\n",
       "       [1.00000000e+00, 1.18509412e-16],\n",
       "       [1.00000000e+00, 2.78837337e-13],\n",
       "       [1.00000000e+00, 1.28374619e-15],\n",
       "       [1.00000000e+00, 1.03003446e-08],\n",
       "       [5.09698614e-02, 9.49030101e-01],\n",
       "       [9.99999881e-01, 1.17822971e-07],\n",
       "       [1.00000000e+00, 1.02183884e-09],\n",
       "       [2.46983677e-01, 7.53016353e-01],\n",
       "       [9.99999523e-01, 4.26452772e-07],\n",
       "       [1.00000000e+00, 1.75073787e-08],\n",
       "       [1.00000000e+00, 3.91240061e-11],\n",
       "       [1.00000000e+00, 4.43306038e-37],\n",
       "       [9.99980450e-01, 1.95980265e-05],\n",
       "       [1.00000000e+00, 2.72950320e-08],\n",
       "       [6.85266256e-02, 9.31473374e-01],\n",
       "       [5.19488286e-03, 9.94805157e-01],\n",
       "       [3.74897546e-03, 9.96251047e-01],\n",
       "       [1.00000000e+00, 4.17664297e-12],\n",
       "       [1.00000000e+00, 1.86737335e-26],\n",
       "       [3.18586558e-01, 6.81413472e-01],\n",
       "       [1.00000000e+00, 2.25545766e-18],\n",
       "       [1.00000000e+00, 1.51994808e-08],\n",
       "       [1.00000000e+00, 1.54953082e-26],\n",
       "       [1.00000000e+00, 4.16959869e-12],\n",
       "       [5.16187260e-03, 9.94838059e-01],\n",
       "       [1.73954472e-01, 8.26045513e-01],\n",
       "       [6.74604252e-02, 9.32539642e-01],\n",
       "       [1.30873537e-02, 9.86912608e-01],\n",
       "       [9.70825076e-01, 2.91749630e-02],\n",
       "       [1.00000000e+00, 2.76895644e-08],\n",
       "       [7.58929849e-01, 2.41070107e-01],\n",
       "       [8.65240395e-03, 9.91347611e-01],\n",
       "       [1.00000000e+00, 2.76740131e-10],\n",
       "       [1.00000000e+00, 1.21409256e-14],\n",
       "       [1.00000000e+00, 3.04564871e-08],\n",
       "       [6.54630512e-02, 9.34536934e-01],\n",
       "       [1.38311628e-02, 9.86168861e-01],\n",
       "       [9.98794079e-01, 1.20595098e-03],\n",
       "       [9.88277972e-01, 1.17220078e-02],\n",
       "       [9.99999762e-01, 2.81316289e-07],\n",
       "       [1.00000000e+00, 3.61893814e-11],\n",
       "       [3.78843129e-01, 6.21156871e-01],\n",
       "       [1.00000000e+00, 2.40178650e-08],\n",
       "       [1.00000000e+00, 6.46345569e-32],\n",
       "       [2.50026211e-02, 9.74997342e-01],\n",
       "       [1.00000000e+00, 1.42099786e-17],\n",
       "       [1.00000000e+00, 1.75893940e-18],\n",
       "       [2.20083632e-02, 9.77991641e-01],\n",
       "       [1.12359338e-02, 9.88764048e-01],\n",
       "       [9.99610007e-01, 3.89978406e-04],\n",
       "       [9.39595163e-01, 6.04048036e-02],\n",
       "       [1.00000000e+00, 5.17901408e-16],\n",
       "       [6.70196163e-03, 9.93298113e-01],\n",
       "       [5.78648388e-01, 4.21351671e-01],\n",
       "       [2.46312730e-02, 9.75368738e-01],\n",
       "       [1.00000000e+00, 3.59366486e-12],\n",
       "       [9.98629630e-02, 9.00137007e-01],\n",
       "       [1.00000000e+00, 1.58710087e-10],\n",
       "       [1.00000000e+00, 1.83403050e-11],\n",
       "       [4.64263698e-03, 9.95357335e-01],\n",
       "       [1.00000000e+00, 8.38733180e-11],\n",
       "       [9.04779613e-01, 9.52203423e-02],\n",
       "       [1.00000000e+00, 1.59734204e-09],\n",
       "       [1.00000000e+00, 3.40051067e-13],\n",
       "       [8.60315144e-01, 1.39684886e-01],\n",
       "       [1.00000000e+00, 7.66542932e-22],\n",
       "       [9.22387600e-01, 7.76124001e-02],\n",
       "       [3.75304208e-03, 9.96246994e-01],\n",
       "       [8.50307383e-03, 9.91496861e-01],\n",
       "       [1.00000000e+00, 2.33659338e-22],\n",
       "       [1.00000000e+00, 5.99478378e-15],\n",
       "       [1.11176968e-02, 9.88882244e-01],\n",
       "       [3.38578410e-02, 9.66142237e-01]], dtype=float32)"
      ]
     },
     "execution_count": 23,
     "metadata": {},
     "output_type": "execute_result"
    }
   ],
   "source": [
    "\n",
    "y_pred"
   ]
  },
  {
   "cell_type": "code",
   "execution_count": 24,
   "metadata": {},
   "outputs": [
    {
     "data": {
      "text/plain": [
       "(134, 2)"
      ]
     },
     "execution_count": 24,
     "metadata": {},
     "output_type": "execute_result"
    }
   ],
   "source": [
    "y_pred.shape"
   ]
  },
  {
   "cell_type": "code",
   "execution_count": 25,
   "metadata": {},
   "outputs": [],
   "source": [
    "\n",
    "import numpy as np\n",
    "y_pred = np.argmax(y_pred, axis=1)"
   ]
  },
  {
   "cell_type": "code",
   "execution_count": 26,
   "metadata": {},
   "outputs": [
    {
     "data": {
      "text/plain": [
       "array([0, 0, 0, 0, 0, 1, 0, 0, 1, 0, 0, 1, 0, 1, 0, 0, 0, 0, 1, 0, 1, 1,\n",
       "       1, 1, 1, 0, 1, 1, 1, 0, 1, 0, 1, 0, 0, 0, 0, 0, 0, 0, 0, 1, 0, 0,\n",
       "       0, 0, 0, 0, 1, 1, 0, 1, 1, 1, 1, 1, 1, 0, 0, 0, 0, 0, 0, 0, 0, 1,\n",
       "       0, 0, 1, 0, 0, 0, 0, 0, 0, 1, 1, 1, 0, 0, 1, 0, 0, 0, 0, 1, 1, 1,\n",
       "       1, 0, 0, 0, 1, 0, 0, 0, 1, 1, 0, 0, 0, 0, 1, 0, 0, 1, 0, 0, 1, 1,\n",
       "       0, 0, 0, 1, 0, 1, 0, 1, 0, 0, 1, 0, 0, 0, 0, 0, 0, 0, 1, 1, 0, 0,\n",
       "       1, 1], dtype=int64)"
      ]
     },
     "execution_count": 26,
     "metadata": {},
     "output_type": "execute_result"
    }
   ],
   "source": [
    "\n",
    "y_pred"
   ]
  },
  {
   "cell_type": "code",
   "execution_count": 27,
   "metadata": {},
   "outputs": [],
   "source": [
    "#from tensorflow.keras.models import load_model\n"
   ]
  },
  {
   "cell_type": "code",
   "execution_count": 28,
   "metadata": {},
   "outputs": [],
   "source": [
    "from PIL import Image"
   ]
  },
  {
   "cell_type": "code",
   "execution_count": 29,
   "metadata": {},
   "outputs": [],
   "source": [
    "img = Image.open('Dataset/Test/Parasite/8.png')"
   ]
  },
  {
   "cell_type": "code",
   "execution_count": 30,
   "metadata": {},
   "outputs": [],
   "source": [
    "basewidth = 224\n",
    "baseheight = 224\n",
    "img1 = Image.open('Dataset/Test/Parasite/8.png')\n",
    "wpercent = (basewidth / float(img.size[0]))\n",
    "hpercent = (baseheight / float(img.size[1]))\n",
    "img1 = img1.resize((basewidth, baseheight), Image.ANTIALIAS)"
   ]
  },
  {
   "cell_type": "code",
   "execution_count": 31,
   "metadata": {},
   "outputs": [
    {
     "data": {
      "image/png": "[encoded data removed]",
      "text/plain": [
       "<PIL.Image.Image image mode=RGB size=224x224 at 0x19DBDBA9DC8>"
      ]
     },
     "execution_count": 31,
     "metadata": {},
     "output_type": "execute_result"
    }
   ],
   "source": [
    "img1"
   ]
  },
  {
   "cell_type": "code",
   "execution_count": 32,
   "metadata": {},
   "outputs": [],
   "source": [
    "#model=load_model('model_vgg19.h5')"
   ]
  },
  {
   "cell_type": "code",
   "execution_count": 33,
   "metadata": {},
   "outputs": [],
   "source": [
    "with open('./model.pkl', 'rb') as f:\n",
    "            loaded_model = pickle.load(f)\n"
   ]
  },
  {
   "cell_type": "code",
   "execution_count": 34,
   "metadata": {},
   "outputs": [],
   "source": [
    "from numpy import asarray"
   ]
  },
  {
   "cell_type": "code",
   "execution_count": 35,
   "metadata": {},
   "outputs": [
    {
     "data": {
      "text/plain": [
       "array([[[0, 0, 0],\n",
       "        [0, 0, 0],\n",
       "        [0, 0, 0],\n",
       "        ...,\n",
       "        [0, 0, 0],\n",
       "        [0, 0, 0],\n",
       "        [0, 0, 0]],\n",
       "\n",
       "       [[0, 0, 0],\n",
       "        [0, 0, 0],\n",
       "        [0, 0, 0],\n",
       "        ...,\n",
       "        [0, 0, 0],\n",
       "        [0, 0, 0],\n",
       "        [0, 0, 0]],\n",
       "\n",
       "       [[0, 0, 0],\n",
       "        [0, 0, 0],\n",
       "        [0, 0, 0],\n",
       "        ...,\n",
       "        [0, 0, 0],\n",
       "        [0, 0, 0],\n",
       "        [0, 0, 0]],\n",
       "\n",
       "       ...,\n",
       "\n",
       "       [[0, 0, 0],\n",
       "        [0, 0, 0],\n",
       "        [0, 0, 0],\n",
       "        ...,\n",
       "        [0, 0, 0],\n",
       "        [0, 0, 0],\n",
       "        [0, 0, 0]],\n",
       "\n",
       "       [[0, 0, 0],\n",
       "        [0, 0, 0],\n",
       "        [0, 0, 0],\n",
       "        ...,\n",
       "        [0, 0, 0],\n",
       "        [0, 0, 0],\n",
       "        [0, 0, 0]],\n",
       "\n",
       "       [[0, 0, 0],\n",
       "        [0, 0, 0],\n",
       "        [0, 0, 0],\n",
       "        ...,\n",
       "        [0, 0, 0],\n",
       "        [0, 0, 0],\n",
       "        [0, 0, 0]]], dtype=uint8)"
      ]
     },
     "execution_count": 35,
     "metadata": {},
     "output_type": "execute_result"
    }
   ],
   "source": [
    "x = asarray(img1)\n",
    "x"
   ]
  },
  {
   "cell_type": "code",
   "execution_count": 36,
   "metadata": {},
   "outputs": [],
   "source": [
    "\n",
    "x=x/255"
   ]
  },
  {
   "cell_type": "code",
   "execution_count": 37,
   "metadata": {},
   "outputs": [
    {
     "data": {
      "text/plain": [
       "(224, 224, 3)"
      ]
     },
     "execution_count": 37,
     "metadata": {},
     "output_type": "execute_result"
    }
   ],
   "source": [
    "x.shape"
   ]
  },
  {
   "cell_type": "code",
   "execution_count": 38,
   "metadata": {},
   "outputs": [],
   "source": [
    "x1 = x.reshape(-1,224,224,3)"
   ]
  },
  {
   "cell_type": "code",
   "execution_count": 39,
   "metadata": {},
   "outputs": [],
   "source": [
    "y =loaded_model.predict(x1)\n"
   ]
  },
  {
   "cell_type": "code",
   "execution_count": 40,
   "metadata": {},
   "outputs": [],
   "source": [
    "a=np.argmax(y)"
   ]
  },
  {
   "cell_type": "code",
   "execution_count": 41,
   "metadata": {},
   "outputs": [
    {
     "data": {
      "text/plain": [
       "0"
      ]
     },
     "execution_count": 41,
     "metadata": {},
     "output_type": "execute_result"
    }
   ],
   "source": [
    "a"
   ]
  },
  {
   "cell_type": "code",
   "execution_count": 42,
   "metadata": {},
   "outputs": [
    {
     "name": "stdout",
     "output_type": "stream",
     "text": [
      "Infected\n"
     ]
    }
   ],
   "source": [
    "if(a==1):\n",
    "    print(\"Uninfected\")\n",
    "else:\n",
    "    print(\"Infected\")"
   ]
  },
  {
   "cell_type": "code",
   "execution_count": null,
   "metadata": {},
   "outputs": [],
   "source": []
  },
  {
   "cell_type": "code",
   "execution_count": null,
   "metadata": {},
   "outputs": [],
   "source": []
  },
  {
   "cell_type": "code",
   "execution_count": null,
   "metadata": {},
   "outputs": [],
   "source": []
  }
 ],
 "metadata": {
  "kernelspec": {
   "display_name": "Python 3",
   "language": "python",
   "name": "python3"
  },
  "language_info": {
   "codemirror_mode": {
    "name": "ipython",
    "version": 3
   },
   "file_extension": ".py",
   "mimetype": "text/x-python",
   "name": "python",
   "nbconvert_exporter": "python",
   "pygments_lexer": "ipython3",
   "version": "3.7.9"
  }
 },
 "nbformat": 4,
 "nbformat_minor": 4
}
