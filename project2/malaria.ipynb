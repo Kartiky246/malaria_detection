{
 "cells": [
  {
   "cell_type": "code",
   "execution_count": 1,
   "metadata": {},
   "outputs": [],
   "source": [
    "from tensorflow.keras.layers import Input, Lambda, Dense, Flatten,Conv2D\n",
    "from tensorflow.keras.models import Model\n",
    "from tensorflow.keras.applications.vgg19 import VGG19\n",
    "from tensorflow.keras.applications.resnet50 import preprocess_input\n",
    "from tensorflow.keras.preprocessing import image\n",
    "from tensorflow.keras.preprocessing.image import ImageDataGenerator,load_img\n",
    "from tensorflow.keras.models import Sequential\n",
    "import numpy as np\n",
    "from glob import glob\n",
    "import matplotlib.pyplot as plt"
   ]
  },
  {
   "cell_type": "code",
   "execution_count": 2,
   "metadata": {},
   "outputs": [],
   "source": [
    "# re sizing all images\n",
    "IMAGE_SIZE = [224, 224] # these are the dimensions of our pretained model\n",
    "\n",
    "train_path = 'cell_images/Train'\n",
    "valid_path = 'cell_images/Test'"
   ]
  },
  {
   "cell_type": "code",
   "execution_count": 3,
   "metadata": {},
   "outputs": [],
   "source": [
    "# Importing the Vgg 16 \n",
    "model = VGG19(input_shape=IMAGE_SIZE + [3], weights='imagenet', include_top=False)"
   ]
  },
  {
   "cell_type": "code",
   "execution_count": 5,
   "metadata": {},
   "outputs": [],
   "source": [
    "# we will use transfer learning concept, so don't train existing weights\n",
    "for layer in model.layers:\n",
    "    layer.trainable = False"
   ]
  },
  {
   "cell_type": "code",
   "execution_count": 6,
   "metadata": {},
   "outputs": [],
   "source": [
    "folders = glob('Dataset/Train/*') #this is the directory of our training dataset"
   ]
  },
  {
   "cell_type": "markdown",
   "metadata": {},
   "source": [
    "- This dataset is only a fraction from the whole dataset available on kaggle website, the dataset is reduced to decrease the training time "
   ]
  },
  {
   "cell_type": "code",
   "execution_count": 7,
   "metadata": {},
   "outputs": [
    {
     "data": {
      "text/plain": [
       "['Dataset/Train\\\\Parasite', 'Dataset/Train\\\\Uninfected']"
      ]
     },
     "execution_count": 7,
     "metadata": {},
     "output_type": "execute_result"
    }
   ],
   "source": [
    "folders"
   ]
  },
  {
   "cell_type": "code",
   "execution_count": 8,
   "metadata": {},
   "outputs": [],
   "source": [
    "# outer layer is flattened\n",
    "x = Flatten()(model.output)"
   ]
  },
  {
   "cell_type": "code",
   "execution_count": 9,
   "metadata": {},
   "outputs": [],
   "source": [
    "\n",
    "prediction = Dense(len(folders), activation='softmax')(x)\n",
    "\n",
    "# create a model object\n",
    "model = Model(inputs=model.input, outputs=prediction)"
   ]
  },
  {
   "cell_type": "code",
   "execution_count": 10,
   "metadata": {},
   "outputs": [
    {
     "name": "stdout",
     "output_type": "stream",
     "text": [
      "Model: \"model\"\n",
      "_________________________________________________________________\n",
      "Layer (type)                 Output Shape              Param #   \n",
      "=================================================================\n",
      "input_1 (InputLayer)         [(None, 224, 224, 3)]     0         \n",
      "_________________________________________________________________\n",
      "block1_conv1 (Conv2D)        (None, 224, 224, 64)      1792      \n",
      "_________________________________________________________________\n",
      "block1_conv2 (Conv2D)        (None, 224, 224, 64)      36928     \n",
      "_________________________________________________________________\n",
      "block1_pool (MaxPooling2D)   (None, 112, 112, 64)      0         \n",
      "_________________________________________________________________\n",
      "block2_conv1 (Conv2D)        (None, 112, 112, 128)     73856     \n",
      "_________________________________________________________________\n",
      "block2_conv2 (Conv2D)        (None, 112, 112, 128)     147584    \n",
      "_________________________________________________________________\n",
      "block2_pool (MaxPooling2D)   (None, 56, 56, 128)       0         \n",
      "_________________________________________________________________\n",
      "block3_conv1 (Conv2D)        (None, 56, 56, 256)       295168    \n",
      "_________________________________________________________________\n",
      "block3_conv2 (Conv2D)        (None, 56, 56, 256)       590080    \n",
      "_________________________________________________________________\n",
      "block3_conv3 (Conv2D)        (None, 56, 56, 256)       590080    \n",
      "_________________________________________________________________\n",
      "block3_conv4 (Conv2D)        (None, 56, 56, 256)       590080    \n",
      "_________________________________________________________________\n",
      "block3_pool (MaxPooling2D)   (None, 28, 28, 256)       0         \n",
      "_________________________________________________________________\n",
      "block4_conv1 (Conv2D)        (None, 28, 28, 512)       1180160   \n",
      "_________________________________________________________________\n",
      "block4_conv2 (Conv2D)        (None, 28, 28, 512)       2359808   \n",
      "_________________________________________________________________\n",
      "block4_conv3 (Conv2D)        (None, 28, 28, 512)       2359808   \n",
      "_________________________________________________________________\n",
      "block4_conv4 (Conv2D)        (None, 28, 28, 512)       2359808   \n",
      "_________________________________________________________________\n",
      "block4_pool (MaxPooling2D)   (None, 14, 14, 512)       0         \n",
      "_________________________________________________________________\n",
      "block5_conv1 (Conv2D)        (None, 14, 14, 512)       2359808   \n",
      "_________________________________________________________________\n",
      "block5_conv2 (Conv2D)        (None, 14, 14, 512)       2359808   \n",
      "_________________________________________________________________\n",
      "block5_conv3 (Conv2D)        (None, 14, 14, 512)       2359808   \n",
      "_________________________________________________________________\n",
      "block5_conv4 (Conv2D)        (None, 14, 14, 512)       2359808   \n",
      "_________________________________________________________________\n",
      "block5_pool (MaxPooling2D)   (None, 7, 7, 512)         0         \n",
      "_________________________________________________________________\n",
      "flatten (Flatten)            (None, 25088)             0         \n",
      "_________________________________________________________________\n",
      "dense (Dense)                (None, 2)                 50178     \n",
      "=================================================================\n",
      "Total params: 20,074,562\n",
      "Trainable params: 50,178\n",
      "Non-trainable params: 20,024,384\n",
      "_________________________________________________________________\n"
     ]
    }
   ],
   "source": [
    "model.summary()"
   ]
  },
  {
   "cell_type": "code",
   "execution_count": 11,
   "metadata": {},
   "outputs": [],
   "source": [
    "\n",
    "from tensorflow.keras.layers import MaxPooling2D"
   ]
  },
  {
   "cell_type": "code",
   "execution_count": 12,
   "metadata": {},
   "outputs": [
    {
     "name": "stdout",
     "output_type": "stream",
     "text": [
      "Model: \"sequential\"\n",
      "_________________________________________________________________\n",
      "Layer (type)                 Output Shape              Param #   \n",
      "=================================================================\n",
      "conv2d (Conv2D)              (None, 224, 224, 16)      208       \n",
      "_________________________________________________________________\n",
      "max_pooling2d (MaxPooling2D) (None, 112, 112, 16)      0         \n",
      "_________________________________________________________________\n",
      "conv2d_1 (Conv2D)            (None, 112, 112, 32)      2080      \n",
      "_________________________________________________________________\n",
      "max_pooling2d_1 (MaxPooling2 (None, 56, 56, 32)        0         \n",
      "_________________________________________________________________\n",
      "conv2d_2 (Conv2D)            (None, 56, 56, 64)        8256      \n",
      "_________________________________________________________________\n",
      "max_pooling2d_2 (MaxPooling2 (None, 28, 28, 64)        0         \n",
      "_________________________________________________________________\n",
      "flatten_1 (Flatten)          (None, 50176)             0         \n",
      "_________________________________________________________________\n",
      "dense_1 (Dense)              (None, 500)               25088500  \n",
      "_________________________________________________________________\n",
      "dense_2 (Dense)              (None, 2)                 1002      \n",
      "=================================================================\n",
      "Total params: 25,100,046\n",
      "Trainable params: 25,100,046\n",
      "Non-trainable params: 0\n",
      "_________________________________________________________________\n"
     ]
    }
   ],
   "source": [
    "model=Sequential()\n",
    "model.add(Conv2D(filters=16,kernel_size=2,padding=\"same\",activation=\"relu\",input_shape=(224,224,3)))\n",
    "model.add(MaxPooling2D(pool_size=2))\n",
    "model.add(Conv2D(filters=32,kernel_size=2,padding=\"same\",activation =\"relu\"))\n",
    "model.add(MaxPooling2D(pool_size=2))\n",
    "model.add(Conv2D(filters=64,kernel_size=2,padding=\"same\",activation=\"relu\"))\n",
    "model.add(MaxPooling2D(pool_size=2))\n",
    "model.add(Flatten())\n",
    "model.add(Dense(500,activation=\"relu\"))\n",
    "model.add(Dense(2,activation=\"softmax\"))\n",
    "model.summary()"
   ]
  },
  {
   "cell_type": "code",
   "execution_count": 13,
   "metadata": {},
   "outputs": [],
   "source": [
    "# will use adam as an optimizer, categorical_crossentropy for loass function and accuracy as metrics\n",
    "model.compile(\n",
    "  loss='categorical_crossentropy',\n",
    "  optimizer='adam',\n",
    "  metrics=['accuracy']\n",
    ")"
   ]
  },
  {
   "cell_type": "code",
   "execution_count": 14,
   "metadata": {},
   "outputs": [],
   "source": [
    "from tensorflow.keras.preprocessing.image import ImageDataGenerator\n",
    "\n",
    "train_datagen = ImageDataGenerator(rescale = 1./255,\n",
    "                                   shear_range = 0.2,\n",
    "                                   zoom_range = 0.2,\n",
    "                                   horizontal_flip = True)\n",
    "\n",
    "test_datagen = ImageDataGenerator(rescale = 1./255)\n"
   ]
  },
  {
   "cell_type": "markdown",
   "metadata": {},
   "source": [
    "- The above code is making the image data generator objects for train and test data"
   ]
  },
  {
   "cell_type": "code",
   "execution_count": 15,
   "metadata": {},
   "outputs": [
    {
     "name": "stdout",
     "output_type": "stream",
     "text": [
      "Found 416 images belonging to 2 classes.\n"
     ]
    }
   ],
   "source": [
    "training_set = train_datagen.flow_from_directory('Dataset/Train',\n",
    "                                                 target_size = (224, 224),\n",
    "                                                 batch_size = 32,\n",
    "                                                 class_mode = 'categorical')"
   ]
  },
  {
   "cell_type": "code",
   "execution_count": 16,
   "metadata": {},
   "outputs": [
    {
     "data": {
      "text/plain": [
       "<keras_preprocessing.image.directory_iterator.DirectoryIterator at 0x15b18722408>"
      ]
     },
     "execution_count": 16,
     "metadata": {},
     "output_type": "execute_result"
    }
   ],
   "source": [
    "\n",
    "training_set"
   ]
  },
  {
   "cell_type": "code",
   "execution_count": 17,
   "metadata": {},
   "outputs": [
    {
     "name": "stdout",
     "output_type": "stream",
     "text": [
      "Found 134 images belonging to 2 classes.\n"
     ]
    }
   ],
   "source": [
    "test_set = test_datagen.flow_from_directory('Dataset/Test',\n",
    "                                            target_size = (224, 224),\n",
    "                                            batch_size = 32,\n",
    "                                            class_mode = 'categorical')"
   ]
  },
  {
   "cell_type": "code",
   "execution_count": 18,
   "metadata": {},
   "outputs": [
    {
     "name": "stdout",
     "output_type": "stream",
     "text": [
      "WARNING:tensorflow:From <ipython-input-18-070b10e8c207>:6: Model.fit_generator (from tensorflow.python.keras.engine.training) is deprecated and will be removed in a future version.\n",
      "Instructions for updating:\n",
      "Please use Model.fit, which supports generators.\n",
      "Epoch 1/50\n",
      "13/13 [==============================] - 33s 3s/step - loss: 1.1995 - accuracy: 0.5024 - val_loss: 0.6917 - val_accuracy: 0.5075\n",
      "Epoch 2/50\n",
      "13/13 [==============================] - 23s 2s/step - loss: 0.6276 - accuracy: 0.6707 - val_loss: 0.7374 - val_accuracy: 0.4627\n",
      "Epoch 3/50\n",
      "13/13 [==============================] - 26s 2s/step - loss: 0.5274 - accuracy: 0.7284 - val_loss: 0.9980 - val_accuracy: 0.4627\n",
      "Epoch 4/50\n",
      "13/13 [==============================] - 27s 2s/step - loss: 0.4600 - accuracy: 0.7740 - val_loss: 0.9887 - val_accuracy: 0.4030\n",
      "Epoch 5/50\n",
      "13/13 [==============================] - 26s 2s/step - loss: 0.3897 - accuracy: 0.8341 - val_loss: 1.0878 - val_accuracy: 0.4104\n",
      "Epoch 6/50\n",
      "13/13 [==============================] - 20s 2s/step - loss: 0.3731 - accuracy: 0.8341 - val_loss: 0.8698 - val_accuracy: 0.5448\n",
      "Epoch 7/50\n",
      "13/13 [==============================] - 21s 2s/step - loss: 0.3538 - accuracy: 0.8534 - val_loss: 0.6739 - val_accuracy: 0.6343\n",
      "Epoch 8/50\n",
      "13/13 [==============================] - 24s 2s/step - loss: 0.2951 - accuracy: 0.8894 - val_loss: 0.8065 - val_accuracy: 0.5821\n",
      "Epoch 9/50\n",
      "13/13 [==============================] - 22s 2s/step - loss: 0.2492 - accuracy: 0.9062 - val_loss: 0.5833 - val_accuracy: 0.7090\n",
      "Epoch 10/50\n",
      "13/13 [==============================] - 22s 2s/step - loss: 0.2203 - accuracy: 0.9087 - val_loss: 0.5644 - val_accuracy: 0.7164\n",
      "Epoch 11/50\n",
      "13/13 [==============================] - 21s 2s/step - loss: 0.2402 - accuracy: 0.9014 - val_loss: 0.4988 - val_accuracy: 0.7612\n",
      "Epoch 12/50\n",
      "13/13 [==============================] - 20s 2s/step - loss: 0.2270 - accuracy: 0.9038 - val_loss: 0.4591 - val_accuracy: 0.7910\n",
      "Epoch 13/50\n",
      "13/13 [==============================] - 21s 2s/step - loss: 0.1935 - accuracy: 0.9279 - val_loss: 0.4434 - val_accuracy: 0.8060\n",
      "Epoch 14/50\n",
      "13/13 [==============================] - 21s 2s/step - loss: 0.1720 - accuracy: 0.9351 - val_loss: 0.5415 - val_accuracy: 0.7313\n",
      "Epoch 15/50\n",
      "13/13 [==============================] - 20s 2s/step - loss: 0.1908 - accuracy: 0.9375 - val_loss: 0.3508 - val_accuracy: 0.8657\n",
      "Epoch 16/50\n",
      "13/13 [==============================] - 21s 2s/step - loss: 0.1386 - accuracy: 0.9471 - val_loss: 0.3181 - val_accuracy: 0.8657\n",
      "Epoch 17/50\n",
      "13/13 [==============================] - 21s 2s/step - loss: 0.0906 - accuracy: 0.9760 - val_loss: 1.1397 - val_accuracy: 0.7313\n",
      "Epoch 18/50\n",
      "13/13 [==============================] - 22s 2s/step - loss: 0.1287 - accuracy: 0.9543 - val_loss: 0.3550 - val_accuracy: 0.8284\n",
      "Epoch 19/50\n",
      "13/13 [==============================] - 22s 2s/step - loss: 0.1101 - accuracy: 0.9639 - val_loss: 0.3223 - val_accuracy: 0.8657\n",
      "Epoch 20/50\n",
      "13/13 [==============================] - 21s 2s/step - loss: 0.0934 - accuracy: 0.9663 - val_loss: 0.2327 - val_accuracy: 0.8955\n",
      "Epoch 21/50\n",
      "13/13 [==============================] - 22s 2s/step - loss: 0.1001 - accuracy: 0.9663 - val_loss: 0.2769 - val_accuracy: 0.8955\n",
      "Epoch 22/50\n",
      "13/13 [==============================] - 21s 2s/step - loss: 0.1305 - accuracy: 0.9615 - val_loss: 0.2852 - val_accuracy: 0.8657\n",
      "Epoch 23/50\n",
      "13/13 [==============================] - 21s 2s/step - loss: 0.1221 - accuracy: 0.9591 - val_loss: 0.3132 - val_accuracy: 0.8657\n",
      "Epoch 24/50\n",
      "13/13 [==============================] - 23s 2s/step - loss: 0.0972 - accuracy: 0.9760 - val_loss: 0.3073 - val_accuracy: 0.8582\n",
      "Epoch 25/50\n",
      "13/13 [==============================] - 21s 2s/step - loss: 0.0579 - accuracy: 0.9808 - val_loss: 0.2386 - val_accuracy: 0.9104\n",
      "Epoch 26/50\n",
      "13/13 [==============================] - 21s 2s/step - loss: 0.0777 - accuracy: 0.9808 - val_loss: 0.2129 - val_accuracy: 0.9030\n",
      "Epoch 27/50\n",
      "13/13 [==============================] - 22s 2s/step - loss: 0.0531 - accuracy: 0.9904 - val_loss: 0.2835 - val_accuracy: 0.8881\n",
      "Epoch 28/50\n",
      "13/13 [==============================] - 20s 2s/step - loss: 0.0538 - accuracy: 0.9808 - val_loss: 0.2477 - val_accuracy: 0.9030\n",
      "Epoch 29/50\n",
      "13/13 [==============================] - 23s 2s/step - loss: 0.0434 - accuracy: 0.9880 - val_loss: 0.2214 - val_accuracy: 0.9328\n",
      "Epoch 30/50\n",
      "13/13 [==============================] - 22s 2s/step - loss: 0.0665 - accuracy: 0.9904 - val_loss: 0.3601 - val_accuracy: 0.8731\n",
      "Epoch 31/50\n",
      "13/13 [==============================] - 21s 2s/step - loss: 0.0624 - accuracy: 0.9856 - val_loss: 0.2162 - val_accuracy: 0.9030\n",
      "Epoch 32/50\n",
      "13/13 [==============================] - 21s 2s/step - loss: 0.0434 - accuracy: 0.9880 - val_loss: 0.1771 - val_accuracy: 0.9104\n",
      "Epoch 33/50\n",
      "13/13 [==============================] - 21s 2s/step - loss: 0.0496 - accuracy: 0.9904 - val_loss: 0.4028 - val_accuracy: 0.8731\n",
      "Epoch 34/50\n",
      "13/13 [==============================] - 23s 2s/step - loss: 0.0589 - accuracy: 0.9832 - val_loss: 0.3356 - val_accuracy: 0.8806\n",
      "Epoch 35/50\n",
      "13/13 [==============================] - 20s 2s/step - loss: 0.0679 - accuracy: 0.9712 - val_loss: 0.2371 - val_accuracy: 0.9104\n",
      "Epoch 36/50\n",
      "13/13 [==============================] - 21s 2s/step - loss: 0.0581 - accuracy: 0.9904 - val_loss: 0.5970 - val_accuracy: 0.8657\n",
      "Epoch 37/50\n",
      "13/13 [==============================] - 21s 2s/step - loss: 0.0318 - accuracy: 0.9904 - val_loss: 0.3141 - val_accuracy: 0.9179\n",
      "Epoch 38/50\n",
      "13/13 [==============================] - 21s 2s/step - loss: 0.0936 - accuracy: 0.9784 - val_loss: 0.2905 - val_accuracy: 0.8806\n",
      "Epoch 39/50\n",
      "13/13 [==============================] - 23s 2s/step - loss: 0.0739 - accuracy: 0.9760 - val_loss: 0.1973 - val_accuracy: 0.9104\n",
      "Epoch 40/50\n",
      "13/13 [==============================] - 22s 2s/step - loss: 0.0452 - accuracy: 0.9880 - val_loss: 0.2836 - val_accuracy: 0.9104\n",
      "Epoch 41/50\n",
      "13/13 [==============================] - 21s 2s/step - loss: 0.0525 - accuracy: 0.9880 - val_loss: 0.2083 - val_accuracy: 0.9179\n",
      "Epoch 42/50\n",
      "13/13 [==============================] - 21s 2s/step - loss: 0.0378 - accuracy: 0.9784 - val_loss: 0.3023 - val_accuracy: 0.9104\n",
      "Epoch 43/50\n",
      "13/13 [==============================] - 21s 2s/step - loss: 0.0767 - accuracy: 0.9808 - val_loss: 0.3093 - val_accuracy: 0.8806\n",
      "Epoch 44/50\n",
      "13/13 [==============================] - 23s 2s/step - loss: 0.1266 - accuracy: 0.9519 - val_loss: 0.2602 - val_accuracy: 0.8731\n",
      "Epoch 45/50\n",
      "13/13 [==============================] - 21s 2s/step - loss: 0.0714 - accuracy: 0.9832 - val_loss: 0.1720 - val_accuracy: 0.9104\n",
      "Epoch 46/50\n",
      "13/13 [==============================] - 21s 2s/step - loss: 0.0476 - accuracy: 0.9904 - val_loss: 0.1831 - val_accuracy: 0.9328\n",
      "Epoch 47/50\n",
      "13/13 [==============================] - 21s 2s/step - loss: 0.0244 - accuracy: 0.9952 - val_loss: 0.2335 - val_accuracy: 0.9179\n",
      "Epoch 48/50\n",
      "13/13 [==============================] - 21s 2s/step - loss: 0.0331 - accuracy: 0.9928 - val_loss: 0.1359 - val_accuracy: 0.9478\n",
      "Epoch 49/50\n",
      "13/13 [==============================] - 23s 2s/step - loss: 0.0315 - accuracy: 0.9904 - val_loss: 0.3153 - val_accuracy: 0.8955\n",
      "Epoch 50/50\n",
      "13/13 [==============================] - 21s 2s/step - loss: 0.0263 - accuracy: 0.9928 - val_loss: 0.1233 - val_accuracy: 0.9701\n"
     ]
    }
   ],
   "source": [
    "r = model.fit_generator(\n",
    "  training_set,\n",
    "  validation_data=test_set,\n",
    "  epochs=50,\n",
    "  steps_per_epoch=len(training_set),\n",
    "  validation_steps=len(test_set)\n",
    ")"
   ]
  },
  {
   "cell_type": "code",
   "execution_count": 19,
   "metadata": {},
   "outputs": [
    {
     "data": {
      "image/png": "[encoded data removed]",
      "text/plain": [
       "<Figure size 432x288 with 1 Axes>"
      ]
     },
     "metadata": {
      "needs_background": "light"
     },
     "output_type": "display_data"
    },
    {
     "data": {
      "image/png": "[encoded data removed]",
      "text/plain": [
       "<Figure size 432x288 with 1 Axes>"
      ]
     },
     "metadata": {
      "needs_background": "light"
     },
     "output_type": "display_data"
    },
    {
     "data": {
      "text/plain": [
       "<Figure size 432x288 with 0 Axes>"
      ]
     },
     "metadata": {},
     "output_type": "display_data"
    }
   ],
   "source": [
    "# plot the loss\n",
    "plt.plot(r.history['loss'], label='train loss')\n",
    "plt.plot(r.history['val_loss'], label='val loss')\n",
    "plt.legend()\n",
    "plt.show()\n",
    "plt.savefig('LossVal_loss')\n",
    "\n",
    "# plot the accuracy\n",
    "plt.plot(r.history['accuracy'], label='train acc')\n",
    "plt.plot(r.history['val_accuracy'], label='val acc')\n",
    "plt.legend()\n",
    "plt.show()\n",
    "plt.savefig('AccVal_acc')"
   ]
  },
  {
   "cell_type": "markdown",
   "metadata": {},
   "source": [
    "- validation accuracy seems to improve over these epochs, but there is some overfitting between the training"
   ]
  },
  {
   "cell_type": "code",
   "execution_count": 20,
   "metadata": {},
   "outputs": [],
   "source": [
    "# will save the model in a h5 file\n",
    "\n",
    "\n",
    "from tensorflow.keras.models import load_model\n",
    "\n",
    "model.save('model_vgg19.h5')"
   ]
  },
  {
   "cell_type": "code",
   "execution_count": 21,
   "metadata": {},
   "outputs": [],
   "source": [
    "y_pred = model.predict(test_set)"
   ]
  },
  {
   "cell_type": "code",
   "execution_count": 22,
   "metadata": {},
   "outputs": [
    {
     "data": {
      "text/plain": [
       "array([[1.09594233e-01, 8.90405774e-01],\n",
       "       [1.00000000e+00, 1.18584777e-11],\n",
       "       [1.53802540e-02, 9.84619796e-01],\n",
       "       [9.99998093e-01, 1.85455906e-06],\n",
       "       [9.99776185e-01, 2.23767260e-04],\n",
       "       [1.94622781e-02, 9.80537713e-01],\n",
       "       [1.17191665e-01, 8.82808328e-01],\n",
       "       [3.00971698e-02, 9.69902813e-01],\n",
       "       [9.97436702e-01, 2.56328122e-03],\n",
       "       [1.00000000e+00, 1.56190083e-08],\n",
       "       [9.99669433e-01, 3.30601877e-04],\n",
       "       [1.00000000e+00, 1.09424345e-11],\n",
       "       [9.99994159e-01, 5.87190152e-06],\n",
       "       [1.93652585e-02, 9.80634689e-01],\n",
       "       [9.99991655e-01, 8.35070477e-06],\n",
       "       [9.99992609e-01, 7.37134087e-06],\n",
       "       [9.99999642e-01, 3.08737754e-07],\n",
       "       [3.80683362e-01, 6.19316638e-01],\n",
       "       [9.99999404e-01, 5.97315307e-07],\n",
       "       [9.99993443e-01, 6.55209305e-06],\n",
       "       [9.99295592e-01, 7.04416714e-04],\n",
       "       [1.00000000e+00, 6.18840807e-22],\n",
       "       [9.99999642e-01, 3.47816780e-07],\n",
       "       [1.00000000e+00, 2.82149409e-21],\n",
       "       [9.99621868e-01, 3.78059165e-04],\n",
       "       [1.00000000e+00, 1.15521259e-09],\n",
       "       [1.00000000e+00, 3.58257850e-08],\n",
       "       [9.99966264e-01, 3.37721212e-05],\n",
       "       [3.55640836e-02, 9.64435935e-01],\n",
       "       [1.63527168e-02, 9.83647287e-01],\n",
       "       [9.99968529e-01, 3.14417339e-05],\n",
       "       [9.99999881e-01, 6.14469755e-08],\n",
       "       [9.68600158e-03, 9.90313947e-01],\n",
       "       [8.95648524e-02, 9.10435140e-01],\n",
       "       [2.09941581e-01, 7.90058434e-01],\n",
       "       [9.99967337e-01, 3.26945628e-05],\n",
       "       [3.86809260e-02, 9.61319089e-01],\n",
       "       [4.83447453e-03, 9.95165467e-01],\n",
       "       [9.44101691e-01, 5.58982827e-02],\n",
       "       [1.00000000e+00, 3.48502024e-23],\n",
       "       [9.00912751e-03, 9.90990877e-01],\n",
       "       [1.00000000e+00, 1.56994711e-23],\n",
       "       [7.37529635e-01, 2.62470365e-01],\n",
       "       [9.99176443e-01, 8.23528098e-04],\n",
       "       [9.80097353e-01, 1.99027006e-02],\n",
       "       [9.99999881e-01, 1.74817941e-07],\n",
       "       [9.99986172e-01, 1.38392461e-05],\n",
       "       [2.75917500e-01, 7.24082530e-01],\n",
       "       [7.09054433e-03, 9.92909431e-01],\n",
       "       [9.99874234e-01, 1.25753155e-04],\n",
       "       [9.99986887e-01, 1.31021316e-05],\n",
       "       [9.99997020e-01, 2.99640374e-06],\n",
       "       [9.99729693e-01, 2.70289951e-04],\n",
       "       [9.99398708e-01, 6.01274602e-04],\n",
       "       [8.57442021e-01, 1.42557979e-01],\n",
       "       [1.00000000e+00, 9.40253951e-12],\n",
       "       [9.99996543e-01, 3.48993422e-06],\n",
       "       [2.94754412e-02, 9.70524609e-01],\n",
       "       [9.99999762e-01, 2.81409143e-07],\n",
       "       [9.41194966e-03, 9.90588069e-01],\n",
       "       [9.98671651e-01, 1.32842781e-03],\n",
       "       [2.45794542e-02, 9.75420535e-01],\n",
       "       [2.70518512e-02, 9.72948134e-01],\n",
       "       [1.00000000e+00, 2.03417514e-08],\n",
       "       [1.00000000e+00, 7.00864974e-12],\n",
       "       [1.98567137e-02, 9.80143249e-01],\n",
       "       [8.26913025e-03, 9.91730869e-01],\n",
       "       [9.87148821e-01, 1.28512084e-02],\n",
       "       [9.80596840e-01, 1.94031224e-02],\n",
       "       [5.97378910e-01, 4.02621090e-01],\n",
       "       [1.67050008e-02, 9.83295023e-01],\n",
       "       [8.97386968e-01, 1.02613017e-01],\n",
       "       [5.86096644e-02, 9.41390336e-01],\n",
       "       [9.89117324e-01, 1.08827241e-02],\n",
       "       [9.99969840e-01, 3.01639320e-05],\n",
       "       [1.00000000e+00, 2.86792421e-12],\n",
       "       [9.99678373e-01, 3.21681495e-04],\n",
       "       [1.00000000e+00, 8.15951839e-09],\n",
       "       [9.99999881e-01, 6.22617193e-08],\n",
       "       [1.00000000e+00, 3.69110031e-09],\n",
       "       [1.26507640e-01, 8.73492301e-01],\n",
       "       [1.00000000e+00, 3.62642642e-12],\n",
       "       [1.00000000e+00, 2.44951004e-10],\n",
       "       [3.19031328e-02, 9.68096912e-01],\n",
       "       [2.73274835e-02, 9.72672522e-01],\n",
       "       [8.53878319e-01, 1.46121696e-01],\n",
       "       [9.99987245e-01, 1.27370013e-05],\n",
       "       [9.52411711e-01, 4.75883372e-02],\n",
       "       [9.99787271e-01, 2.12763160e-04],\n",
       "       [1.69238523e-02, 9.83076096e-01],\n",
       "       [1.00000000e+00, 1.40443678e-14],\n",
       "       [1.83835879e-01, 8.16164076e-01],\n",
       "       [9.99972224e-01, 2.78193784e-05],\n",
       "       [1.00000000e+00, 7.09617628e-16],\n",
       "       [9.99999166e-01, 8.58460453e-07],\n",
       "       [1.50233824e-02, 9.84976649e-01],\n",
       "       [3.63703743e-02, 9.63629663e-01],\n",
       "       [9.99792159e-01, 2.07907287e-04],\n",
       "       [8.69101658e-03, 9.91308928e-01],\n",
       "       [9.99991655e-01, 8.38261349e-06],\n",
       "       [1.00000000e+00, 6.88716528e-10],\n",
       "       [9.99868035e-01, 1.31902038e-04],\n",
       "       [9.99999404e-01, 5.51396283e-07],\n",
       "       [9.99986529e-01, 1.34313568e-05],\n",
       "       [9.99958038e-01, 4.19613316e-05],\n",
       "       [9.94816601e-01, 5.18339220e-03],\n",
       "       [1.00000000e+00, 1.19727346e-21],\n",
       "       [3.03348098e-02, 9.69665110e-01],\n",
       "       [9.99990106e-01, 9.85808947e-06],\n",
       "       [9.99997020e-01, 2.94907932e-06],\n",
       "       [9.99997735e-01, 2.23467259e-06],\n",
       "       [4.59483452e-02, 9.54051673e-01],\n",
       "       [9.99999046e-01, 9.04709225e-07],\n",
       "       [9.99997735e-01, 2.28068461e-06],\n",
       "       [2.15893909e-02, 9.78410602e-01],\n",
       "       [2.22249046e-01, 7.77750969e-01],\n",
       "       [1.96708977e-01, 8.03291023e-01],\n",
       "       [5.92245944e-02, 9.40775394e-01],\n",
       "       [1.00000000e+00, 2.58902661e-16],\n",
       "       [5.29432110e-03, 9.94705737e-01],\n",
       "       [2.11962052e-02, 9.78803813e-01],\n",
       "       [9.99991655e-01, 8.28820066e-06],\n",
       "       [3.18488367e-02, 9.68151212e-01],\n",
       "       [1.00000000e+00, 3.58658103e-10],\n",
       "       [1.00000000e+00, 2.97128988e-09],\n",
       "       [1.20021708e-01, 8.79978299e-01],\n",
       "       [9.98224437e-01, 1.77552330e-03],\n",
       "       [9.57642913e-01, 4.23571244e-02],\n",
       "       [9.99990702e-01, 9.34598847e-06],\n",
       "       [5.47986209e-01, 4.52013791e-01],\n",
       "       [5.30318804e-02, 9.46968079e-01],\n",
       "       [9.90212739e-01, 9.78730526e-03],\n",
       "       [6.20059334e-02, 9.37994123e-01],\n",
       "       [9.99712765e-01, 2.87214236e-04]], dtype=float32)"
      ]
     },
     "execution_count": 22,
     "metadata": {},
     "output_type": "execute_result"
    }
   ],
   "source": [
    "\n",
    "y_pred"
   ]
  },
  {
   "cell_type": "code",
   "execution_count": 30,
   "metadata": {},
   "outputs": [
    {
     "data": {
      "text/plain": [
       "(134, 2)"
      ]
     },
     "execution_count": 30,
     "metadata": {},
     "output_type": "execute_result"
    }
   ],
   "source": [
    "y_pred.shape"
   ]
  },
  {
   "cell_type": "markdown",
   "metadata": {},
   "source": [
    "- y_pred is a 2x2 array, the value at index 1 is for infected prob and index 2 is for uninfected prob"
   ]
  },
  {
   "cell_type": "code",
   "execution_count": 23,
   "metadata": {},
   "outputs": [],
   "source": [
    "\n",
    "import numpy as np\n",
    "y_pred = np.argmax(y_pred, axis=1)"
   ]
  },
  {
   "cell_type": "code",
   "execution_count": 24,
   "metadata": {},
   "outputs": [
    {
     "data": {
      "text/plain": [
       "array([1, 0, 1, 0, 0, 1, 1, 1, 0, 0, 0, 0, 0, 1, 0, 0, 0, 1, 0, 0, 0, 0,\n",
       "       0, 0, 0, 0, 0, 0, 1, 1, 0, 0, 1, 1, 1, 0, 1, 1, 0, 0, 1, 0, 0, 0,\n",
       "       0, 0, 0, 1, 1, 0, 0, 0, 0, 0, 0, 0, 0, 1, 0, 1, 0, 1, 1, 0, 0, 1,\n",
       "       1, 0, 0, 0, 1, 0, 1, 0, 0, 0, 0, 0, 0, 0, 1, 0, 0, 1, 1, 0, 0, 0,\n",
       "       0, 1, 0, 1, 0, 0, 0, 1, 1, 0, 1, 0, 0, 0, 0, 0, 0, 0, 0, 1, 0, 0,\n",
       "       0, 1, 0, 0, 1, 1, 1, 1, 0, 1, 1, 0, 1, 0, 0, 1, 0, 0, 0, 0, 1, 0,\n",
       "       1, 0], dtype=int64)"
      ]
     },
     "execution_count": 24,
     "metadata": {},
     "output_type": "execute_result"
    }
   ],
   "source": [
    "\n",
    "y_pred"
   ]
  },
  {
   "cell_type": "code",
   "execution_count": 25,
   "metadata": {},
   "outputs": [],
   "source": [
    "from tensorflow.keras.models import load_model\n",
    "from tensorflow.keras.preprocessing import image"
   ]
  },
  {
   "cell_type": "code",
   "execution_count": 26,
   "metadata": {},
   "outputs": [],
   "source": [
    "# load the save model in a variable name model\n",
    "model=load_model('model_vgg19.h5')"
   ]
  },
  {
   "cell_type": "code",
   "execution_count": 27,
   "metadata": {},
   "outputs": [],
   "source": [
    "img=image.load_img('Dataset/Test/Parasite/11.png',target_size=(224,224))"
   ]
  },
  {
   "cell_type": "code",
   "execution_count": 28,
   "metadata": {},
   "outputs": [
    {
     "data": {
      "image/png": "[encoded data removed]",
      "text/plain": [
       "<PIL.Image.Image image mode=RGB size=224x224 at 0x15B18C7AB08>"
      ]
     },
     "execution_count": 28,
     "metadata": {},
     "output_type": "execute_result"
    }
   ],
   "source": [
    "img"
   ]
  },
  {
   "cell_type": "code",
   "execution_count": 29,
   "metadata": {},
   "outputs": [],
   "source": [
    "# this is a parasitic cell image form our test dataset"
   ]
  },
  {
   "cell_type": "code",
   "execution_count": 30,
   "metadata": {},
   "outputs": [
    {
     "data": {
      "text/plain": [
       "array([[[0., 0., 0.],\n",
       "        [0., 0., 0.],\n",
       "        [0., 0., 0.],\n",
       "        ...,\n",
       "        [0., 0., 0.],\n",
       "        [0., 0., 0.],\n",
       "        [0., 0., 0.]],\n",
       "\n",
       "       [[0., 0., 0.],\n",
       "        [0., 0., 0.],\n",
       "        [0., 0., 0.],\n",
       "        ...,\n",
       "        [0., 0., 0.],\n",
       "        [0., 0., 0.],\n",
       "        [0., 0., 0.]],\n",
       "\n",
       "       [[0., 0., 0.],\n",
       "        [0., 0., 0.],\n",
       "        [0., 0., 0.],\n",
       "        ...,\n",
       "        [0., 0., 0.],\n",
       "        [0., 0., 0.],\n",
       "        [0., 0., 0.]],\n",
       "\n",
       "       ...,\n",
       "\n",
       "       [[0., 0., 0.],\n",
       "        [0., 0., 0.],\n",
       "        [0., 0., 0.],\n",
       "        ...,\n",
       "        [0., 0., 0.],\n",
       "        [0., 0., 0.],\n",
       "        [0., 0., 0.]],\n",
       "\n",
       "       [[0., 0., 0.],\n",
       "        [0., 0., 0.],\n",
       "        [0., 0., 0.],\n",
       "        ...,\n",
       "        [0., 0., 0.],\n",
       "        [0., 0., 0.],\n",
       "        [0., 0., 0.]],\n",
       "\n",
       "       [[0., 0., 0.],\n",
       "        [0., 0., 0.],\n",
       "        [0., 0., 0.],\n",
       "        ...,\n",
       "        [0., 0., 0.],\n",
       "        [0., 0., 0.],\n",
       "        [0., 0., 0.]]], dtype=float32)"
      ]
     },
     "execution_count": 30,
     "metadata": {},
     "output_type": "execute_result"
    }
   ],
   "source": [
    "# We need to convert our image to an array\n",
    "x=image.img_to_array(img)\n",
    "x"
   ]
  },
  {
   "cell_type": "code",
   "execution_count": 31,
   "metadata": {},
   "outputs": [],
   "source": [
    "# rescaling the values \n",
    "x=x/255"
   ]
  },
  {
   "cell_type": "code",
   "execution_count": 32,
   "metadata": {},
   "outputs": [
    {
     "data": {
      "text/plain": [
       "(224, 224, 3)"
      ]
     },
     "execution_count": 32,
     "metadata": {},
     "output_type": "execute_result"
    }
   ],
   "source": [
    "x.shape"
   ]
  },
  {
   "cell_type": "code",
   "execution_count": 33,
   "metadata": {},
   "outputs": [],
   "source": [
    "x1 = x.reshape(-1,224,224,3)\n",
    "# We need an extra dimn because our model is expecting many values(images) with first value as the index value"
   ]
  },
  {
   "cell_type": "code",
   "execution_count": 74,
   "metadata": {},
   "outputs": [],
   "source": [
    "y =model.predict(x1)\n"
   ]
  },
  {
   "cell_type": "code",
   "execution_count": 75,
   "metadata": {},
   "outputs": [
    {
     "data": {
      "text/plain": [
       "array([[1., 0.]], dtype=float32)"
      ]
     },
     "execution_count": 75,
     "metadata": {},
     "output_type": "execute_result"
    }
   ],
   "source": [
    "y\n",
    "# the value of index 0 is greater, this means that the prob. of being infected is more"
   ]
  },
  {
   "cell_type": "code",
   "execution_count": 38,
   "metadata": {},
   "outputs": [
    {
     "data": {
      "text/plain": [
       "(1, 2)"
      ]
     },
     "execution_count": 38,
     "metadata": {},
     "output_type": "execute_result"
    }
   ],
   "source": [
    "y.shape"
   ]
  },
  {
   "cell_type": "code",
   "execution_count": 39,
   "metadata": {},
   "outputs": [],
   "source": [
    "a=np.argmax(y)\n",
    "# this will take the index of higher value"
   ]
  },
  {
   "cell_type": "code",
   "execution_count": 40,
   "metadata": {},
   "outputs": [
    {
     "data": {
      "text/plain": [
       "0"
      ]
     },
     "execution_count": 40,
     "metadata": {},
     "output_type": "execute_result"
    }
   ],
   "source": [
    "a"
   ]
  },
  {
   "cell_type": "code",
   "execution_count": 41,
   "metadata": {},
   "outputs": [
    {
     "name": "stdout",
     "output_type": "stream",
     "text": [
      "Infected\n"
     ]
    }
   ],
   "source": [
    "if(a==1):\n",
    "    print(\"Uninfected\")\n",
    "else:\n",
    "    print(\"Infected\")"
   ]
  },
  {
   "cell_type": "markdown",
   "metadata": {},
   "source": [
    "- Thus our model predict the image to be of infected cell, which is true"
   ]
  },
  {
   "cell_type": "markdown",
   "metadata": {},
   "source": [
    "### Now we will check for an uninfected image"
   ]
  },
  {
   "cell_type": "code",
   "execution_count": 63,
   "metadata": {},
   "outputs": [],
   "source": [
    "img1=image.load_img('Dataset/Test/Uninfected/20.png',target_size=(224,224))"
   ]
  },
  {
   "cell_type": "code",
   "execution_count": 64,
   "metadata": {},
   "outputs": [
    {
     "data": {
      "image/png": "[encoded data removed]",
      "text/plain": [
       "<PIL.Image.Image image mode=RGB size=224x224 at 0x15B199F9D88>"
      ]
     },
     "execution_count": 64,
     "metadata": {},
     "output_type": "execute_result"
    }
   ],
   "source": [
    "img1"
   ]
  },
  {
   "cell_type": "markdown",
   "metadata": {},
   "source": [
    "- The above image is of an uninfected cell"
   ]
  },
  {
   "cell_type": "code",
   "execution_count": 65,
   "metadata": {},
   "outputs": [
    {
     "data": {
      "text/plain": [
       "array([[[0., 0., 0.],\n",
       "        [0., 0., 0.],\n",
       "        [0., 0., 0.],\n",
       "        ...,\n",
       "        [0., 0., 0.],\n",
       "        [0., 0., 0.],\n",
       "        [0., 0., 0.]],\n",
       "\n",
       "       [[0., 0., 0.],\n",
       "        [0., 0., 0.],\n",
       "        [0., 0., 0.],\n",
       "        ...,\n",
       "        [0., 0., 0.],\n",
       "        [0., 0., 0.],\n",
       "        [0., 0., 0.]],\n",
       "\n",
       "       [[0., 0., 0.],\n",
       "        [0., 0., 0.],\n",
       "        [0., 0., 0.],\n",
       "        ...,\n",
       "        [0., 0., 0.],\n",
       "        [0., 0., 0.],\n",
       "        [0., 0., 0.]],\n",
       "\n",
       "       ...,\n",
       "\n",
       "       [[0., 0., 0.],\n",
       "        [0., 0., 0.],\n",
       "        [0., 0., 0.],\n",
       "        ...,\n",
       "        [0., 0., 0.],\n",
       "        [0., 0., 0.],\n",
       "        [0., 0., 0.]],\n",
       "\n",
       "       [[0., 0., 0.],\n",
       "        [0., 0., 0.],\n",
       "        [0., 0., 0.],\n",
       "        ...,\n",
       "        [0., 0., 0.],\n",
       "        [0., 0., 0.],\n",
       "        [0., 0., 0.]],\n",
       "\n",
       "       [[0., 0., 0.],\n",
       "        [0., 0., 0.],\n",
       "        [0., 0., 0.],\n",
       "        ...,\n",
       "        [0., 0., 0.],\n",
       "        [0., 0., 0.],\n",
       "        [0., 0., 0.]]], dtype=float32)"
      ]
     },
     "execution_count": 65,
     "metadata": {},
     "output_type": "execute_result"
    }
   ],
   "source": [
    "# We need to convert our image to an array\n",
    "x2=image.img_to_array(img1)\n",
    "x2"
   ]
  },
  {
   "cell_type": "code",
   "execution_count": 66,
   "metadata": {},
   "outputs": [],
   "source": [
    "# rescaling the values \n",
    "x2=x2/255"
   ]
  },
  {
   "cell_type": "code",
   "execution_count": 67,
   "metadata": {},
   "outputs": [],
   "source": [
    "x3 = x2.reshape(-1,224,224,3)\n",
    "# We need an extra dimn because our model is expecting many values(images) with first value as the index value"
   ]
  },
  {
   "cell_type": "code",
   "execution_count": 68,
   "metadata": {},
   "outputs": [],
   "source": [
    "z = model.predict(x3)"
   ]
  },
  {
   "cell_type": "code",
   "execution_count": 69,
   "metadata": {},
   "outputs": [
    {
     "data": {
      "text/plain": [
       "array([[0.02705188, 0.97294813]], dtype=float32)"
      ]
     },
     "execution_count": 69,
     "metadata": {},
     "output_type": "execute_result"
    }
   ],
   "source": [
    "z\n",
    "# the value of index 1 is greater, this means that the prob. of being uninfected is more"
   ]
  },
  {
   "cell_type": "code",
   "execution_count": 73,
   "metadata": {},
   "outputs": [],
   "source": [
    "a = np.argmax(z)\n",
    "# this will take the index of higher value"
   ]
  },
  {
   "cell_type": "code",
   "execution_count": 71,
   "metadata": {},
   "outputs": [
    {
     "data": {
      "text/plain": [
       "1"
      ]
     },
     "execution_count": 71,
     "metadata": {},
     "output_type": "execute_result"
    }
   ],
   "source": [
    "a"
   ]
  },
  {
   "cell_type": "code",
   "execution_count": 72,
   "metadata": {},
   "outputs": [
    {
     "name": "stdout",
     "output_type": "stream",
     "text": [
      "Uninfected\n"
     ]
    }
   ],
   "source": [
    "if(a==1):\n",
    "    print(\"Uninfected\")\n",
    "else:\n",
    "    print(\"Infected\")"
   ]
  },
  {
   "cell_type": "code",
   "execution_count": null,
   "metadata": {},
   "outputs": [],
   "source": []
  }
 ],
 "metadata": {
  "kernelspec": {
   "display_name": "Python 3",
   "language": "python",
   "name": "python3"
  },
  "language_info": {
   "codemirror_mode": {
    "name": "ipython",
    "version": 3
   },
   "file_extension": ".py",
   "mimetype": "text/x-python",
   "name": "python",
   "nbconvert_exporter": "python",
   "pygments_lexer": "ipython3",
   "version": "3.7.9"
  }
 },
 "nbformat": 4,
 "nbformat_minor": 4
}
