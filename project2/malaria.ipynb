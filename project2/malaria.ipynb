{
 "cells": [
  {
   "cell_type": "code",
   "execution_count": 1,
   "metadata": {},
   "outputs": [],
   "source": [
    "from tensorflow.keras.layers import Input, Lambda, Dense, Flatten,Conv2D\n",
    "from tensorflow.keras.models import Model\n",
    "from tensorflow.keras.applications.vgg19 import VGG19\n",
    "from tensorflow.keras.applications.resnet50 import preprocess_input\n",
    "from tensorflow.keras.preprocessing import image\n",
    "from tensorflow.keras.preprocessing.image import ImageDataGenerator,load_img\n",
    "from tensorflow.keras.models import Sequential\n",
    "import numpy as np\n",
    "from glob import glob\n",
    "import matplotlib.pyplot as plt"
   ]
  },
  {
   "cell_type": "code",
   "execution_count": 2,
   "metadata": {},
   "outputs": [],
   "source": [
    "# re sizing all images\n",
    "IMAGE_SIZE = [224, 224]\n",
    "\n",
    "train_path = 'cell_images/Train'\n",
    "valid_path = 'cell_images/Test'"
   ]
  },
  {
   "cell_type": "code",
   "execution_count": 3,
   "metadata": {},
   "outputs": [],
   "source": [
    "# Importing the Vgg 16 \n",
    "mobilnet = VGG19(input_shape=IMAGE_SIZE + [3], weights='imagenet', include_top=False)"
   ]
  },
  {
   "cell_type": "code",
   "execution_count": 4,
   "metadata": {},
   "outputs": [],
   "source": [
    "\n",
    "# don't train existing weights\n",
    "for layer in mobilnet.layers:\n",
    "    layer.trainable = False"
   ]
  },
  {
   "cell_type": "code",
   "execution_count": 5,
   "metadata": {},
   "outputs": [],
   "source": [
    "folders = glob('Dataset/Train/*')"
   ]
  },
  {
   "cell_type": "code",
   "execution_count": 6,
   "metadata": {},
   "outputs": [
    {
     "data": {
      "text/plain": [
       "['Dataset/Train\\\\Parasite', 'Dataset/Train\\\\Uninfected']"
      ]
     },
     "execution_count": 6,
     "metadata": {},
     "output_type": "execute_result"
    }
   ],
   "source": [
    "folders"
   ]
  },
  {
   "cell_type": "code",
   "execution_count": 7,
   "metadata": {},
   "outputs": [],
   "source": [
    "\n",
    "# our layers - you can add more if you want\n",
    "x = Flatten()(mobilnet.output)"
   ]
  },
  {
   "cell_type": "code",
   "execution_count": 8,
   "metadata": {},
   "outputs": [],
   "source": [
    "\n",
    "prediction = Dense(len(folders), activation='softmax')(x)\n",
    "\n",
    "# create a model object\n",
    "model = Model(inputs=mobilnet.input, outputs=prediction)"
   ]
  },
  {
   "cell_type": "code",
   "execution_count": 9,
   "metadata": {},
   "outputs": [
    {
     "name": "stdout",
     "output_type": "stream",
     "text": [
      "Model: \"model\"\n",
      "_________________________________________________________________\n",
      "Layer (type)                 Output Shape              Param #   \n",
      "=================================================================\n",
      "input_1 (InputLayer)         [(None, 224, 224, 3)]     0         \n",
      "_________________________________________________________________\n",
      "block1_conv1 (Conv2D)        (None, 224, 224, 64)      1792      \n",
      "_________________________________________________________________\n",
      "block1_conv2 (Conv2D)        (None, 224, 224, 64)      36928     \n",
      "_________________________________________________________________\n",
      "block1_pool (MaxPooling2D)   (None, 112, 112, 64)      0         \n",
      "_________________________________________________________________\n",
      "block2_conv1 (Conv2D)        (None, 112, 112, 128)     73856     \n",
      "_________________________________________________________________\n",
      "block2_conv2 (Conv2D)        (None, 112, 112, 128)     147584    \n",
      "_________________________________________________________________\n",
      "block2_pool (MaxPooling2D)   (None, 56, 56, 128)       0         \n",
      "_________________________________________________________________\n",
      "block3_conv1 (Conv2D)        (None, 56, 56, 256)       295168    \n",
      "_________________________________________________________________\n",
      "block3_conv2 (Conv2D)        (None, 56, 56, 256)       590080    \n",
      "_________________________________________________________________\n",
      "block3_conv3 (Conv2D)        (None, 56, 56, 256)       590080    \n",
      "_________________________________________________________________\n",
      "block3_conv4 (Conv2D)        (None, 56, 56, 256)       590080    \n",
      "_________________________________________________________________\n",
      "block3_pool (MaxPooling2D)   (None, 28, 28, 256)       0         \n",
      "_________________________________________________________________\n",
      "block4_conv1 (Conv2D)        (None, 28, 28, 512)       1180160   \n",
      "_________________________________________________________________\n",
      "block4_conv2 (Conv2D)        (None, 28, 28, 512)       2359808   \n",
      "_________________________________________________________________\n",
      "block4_conv3 (Conv2D)        (None, 28, 28, 512)       2359808   \n",
      "_________________________________________________________________\n",
      "block4_conv4 (Conv2D)        (None, 28, 28, 512)       2359808   \n",
      "_________________________________________________________________\n",
      "block4_pool (MaxPooling2D)   (None, 14, 14, 512)       0         \n",
      "_________________________________________________________________\n",
      "block5_conv1 (Conv2D)        (None, 14, 14, 512)       2359808   \n",
      "_________________________________________________________________\n",
      "block5_conv2 (Conv2D)        (None, 14, 14, 512)       2359808   \n",
      "_________________________________________________________________\n",
      "block5_conv3 (Conv2D)        (None, 14, 14, 512)       2359808   \n",
      "_________________________________________________________________\n",
      "block5_conv4 (Conv2D)        (None, 14, 14, 512)       2359808   \n",
      "_________________________________________________________________\n",
      "block5_pool (MaxPooling2D)   (None, 7, 7, 512)         0         \n",
      "_________________________________________________________________\n",
      "flatten (Flatten)            (None, 25088)             0         \n",
      "_________________________________________________________________\n",
      "dense (Dense)                (None, 2)                 50178     \n",
      "=================================================================\n",
      "Total params: 20,074,562\n",
      "Trainable params: 50,178\n",
      "Non-trainable params: 20,024,384\n",
      "_________________________________________________________________\n"
     ]
    }
   ],
   "source": [
    "model.summary()"
   ]
  },
  {
   "cell_type": "code",
   "execution_count": 10,
   "metadata": {},
   "outputs": [],
   "source": [
    "\n",
    "from tensorflow.keras.layers import MaxPooling2D"
   ]
  },
  {
   "cell_type": "code",
   "execution_count": 11,
   "metadata": {},
   "outputs": [
    {
     "name": "stdout",
     "output_type": "stream",
     "text": [
      "Model: \"sequential\"\n",
      "_________________________________________________________________\n",
      "Layer (type)                 Output Shape              Param #   \n",
      "=================================================================\n",
      "conv2d (Conv2D)              (None, 224, 224, 16)      208       \n",
      "_________________________________________________________________\n",
      "max_pooling2d (MaxPooling2D) (None, 112, 112, 16)      0         \n",
      "_________________________________________________________________\n",
      "conv2d_1 (Conv2D)            (None, 112, 112, 32)      2080      \n",
      "_________________________________________________________________\n",
      "max_pooling2d_1 (MaxPooling2 (None, 56, 56, 32)        0         \n",
      "_________________________________________________________________\n",
      "conv2d_2 (Conv2D)            (None, 56, 56, 64)        8256      \n",
      "_________________________________________________________________\n",
      "max_pooling2d_2 (MaxPooling2 (None, 28, 28, 64)        0         \n",
      "_________________________________________________________________\n",
      "flatten_1 (Flatten)          (None, 50176)             0         \n",
      "_________________________________________________________________\n",
      "dense_1 (Dense)              (None, 500)               25088500  \n",
      "_________________________________________________________________\n",
      "dense_2 (Dense)              (None, 2)                 1002      \n",
      "=================================================================\n",
      "Total params: 25,100,046\n",
      "Trainable params: 25,100,046\n",
      "Non-trainable params: 0\n",
      "_________________________________________________________________\n"
     ]
    }
   ],
   "source": [
    "model=Sequential()\n",
    "model.add(Conv2D(filters=16,kernel_size=2,padding=\"same\",activation=\"relu\",input_shape=(224,224,3)))\n",
    "model.add(MaxPooling2D(pool_size=2))\n",
    "model.add(Conv2D(filters=32,kernel_size=2,padding=\"same\",activation =\"relu\"))\n",
    "model.add(MaxPooling2D(pool_size=2))\n",
    "model.add(Conv2D(filters=64,kernel_size=2,padding=\"same\",activation=\"relu\"))\n",
    "model.add(MaxPooling2D(pool_size=2))\n",
    "model.add(Flatten())\n",
    "model.add(Dense(500,activation=\"relu\"))\n",
    "model.add(Dense(2,activation=\"softmax\"))\n",
    "model.summary()"
   ]
  },
  {
   "cell_type": "code",
   "execution_count": 12,
   "metadata": {},
   "outputs": [],
   "source": [
    "model.compile(\n",
    "  loss='categorical_crossentropy',\n",
    "  optimizer='adam',\n",
    "  metrics=['accuracy']\n",
    ")"
   ]
  },
  {
   "cell_type": "code",
   "execution_count": 13,
   "metadata": {},
   "outputs": [],
   "source": [
    "from tensorflow.keras.preprocessing.image import ImageDataGenerator\n",
    "\n",
    "train_datagen = ImageDataGenerator(rescale = 1./255,\n",
    "                                   shear_range = 0.2,\n",
    "                                   zoom_range = 0.2,\n",
    "                                   horizontal_flip = True)\n",
    "\n",
    "test_datagen = ImageDataGenerator(rescale = 1./255)"
   ]
  },
  {
   "cell_type": "code",
   "execution_count": 14,
   "metadata": {},
   "outputs": [
    {
     "name": "stdout",
     "output_type": "stream",
     "text": [
      "Found 416 images belonging to 2 classes.\n"
     ]
    }
   ],
   "source": [
    "training_set = train_datagen.flow_from_directory('Dataset/Train',\n",
    "                                                 target_size = (224, 224),\n",
    "                                                 batch_size = 2,\n",
    "                                                 class_mode = 'categorical')"
   ]
  },
  {
   "cell_type": "code",
   "execution_count": 15,
   "metadata": {},
   "outputs": [
    {
     "data": {
      "text/plain": [
       "<keras_preprocessing.image.directory_iterator.DirectoryIterator at 0x21a6a9989c8>"
      ]
     },
     "execution_count": 15,
     "metadata": {},
     "output_type": "execute_result"
    }
   ],
   "source": [
    "\n",
    "training_set"
   ]
  },
  {
   "cell_type": "code",
   "execution_count": 16,
   "metadata": {},
   "outputs": [
    {
     "name": "stdout",
     "output_type": "stream",
     "text": [
      "Found 134 images belonging to 2 classes.\n"
     ]
    }
   ],
   "source": [
    "test_set = test_datagen.flow_from_directory('Dataset/Test',\n",
    "                                            target_size = (224, 224),\n",
    "                                            batch_size = 2,\n",
    "                                            class_mode = 'categorical')"
   ]
  },
  {
   "cell_type": "code",
   "execution_count": 17,
   "metadata": {},
   "outputs": [
    {
     "name": "stdout",
     "output_type": "stream",
     "text": [
      "WARNING:tensorflow:From <ipython-input-17-070b10e8c207>:6: Model.fit_generator (from tensorflow.python.keras.engine.training) is deprecated and will be removed in a future version.\n",
      "Instructions for updating:\n",
      "Please use Model.fit, which supports generators.\n",
      "Epoch 1/50\n",
      "208/208 [==============================] - 76s 365ms/step - loss: 0.9771 - accuracy: 0.5673 - val_loss: 0.7827 - val_accuracy: 0.3209\n",
      "Epoch 2/50\n",
      "208/208 [==============================] - 67s 322ms/step - loss: 0.6666 - accuracy: 0.6034 - val_loss: 0.6594 - val_accuracy: 0.6567\n",
      "Epoch 3/50\n",
      "208/208 [==============================] - 72s 345ms/step - loss: 0.4560 - accuracy: 0.7981 - val_loss: 1.1626 - val_accuracy: 0.3433\n",
      "Epoch 4/50\n",
      "208/208 [==============================] - 69s 330ms/step - loss: 0.5827 - accuracy: 0.6803 - val_loss: 0.8783 - val_accuracy: 0.6045\n",
      "Epoch 5/50\n",
      "208/208 [==============================] - 75s 360ms/step - loss: 0.4274 - accuracy: 0.8245 - val_loss: 0.6187 - val_accuracy: 0.6567\n",
      "Epoch 6/50\n",
      "208/208 [==============================] - 74s 355ms/step - loss: 0.2342 - accuracy: 0.9231 - val_loss: 0.2300 - val_accuracy: 0.9179\n",
      "Epoch 7/50\n",
      "208/208 [==============================] - 70s 337ms/step - loss: 0.2711 - accuracy: 0.9062 - val_loss: 0.3872 - val_accuracy: 0.8433\n",
      "Epoch 8/50\n",
      "208/208 [==============================] - 86s 415ms/step - loss: 0.1310 - accuracy: 0.9567 - val_loss: 0.1614 - val_accuracy: 0.9179\n",
      "Epoch 9/50\n",
      "208/208 [==============================] - 85s 408ms/step - loss: 0.1598 - accuracy: 0.9447 - val_loss: 0.6121 - val_accuracy: 0.7388\n",
      "Epoch 10/50\n",
      "208/208 [==============================] - 84s 406ms/step - loss: 0.1650 - accuracy: 0.9423 - val_loss: 0.7390 - val_accuracy: 0.8657\n",
      "Epoch 11/50\n",
      "208/208 [==============================] - 83s 398ms/step - loss: 0.0921 - accuracy: 0.9736 - val_loss: 0.1142 - val_accuracy: 0.9701\n",
      "Epoch 12/50\n",
      "208/208 [==============================] - 84s 402ms/step - loss: 0.3880 - accuracy: 0.8558 - val_loss: 0.6281 - val_accuracy: 0.6866\n",
      "Epoch 13/50\n",
      "208/208 [==============================] - 78s 375ms/step - loss: 0.1849 - accuracy: 0.9399 - val_loss: 0.3455 - val_accuracy: 0.8806\n",
      "Epoch 14/50\n",
      "208/208 [==============================] - 72s 348ms/step - loss: 0.1620 - accuracy: 0.9639 - val_loss: 0.0838 - val_accuracy: 0.9701\n",
      "Epoch 15/50\n",
      "208/208 [==============================] - 81s 392ms/step - loss: 0.2067 - accuracy: 0.9375 - val_loss: 0.2942 - val_accuracy: 0.8731\n",
      "Epoch 16/50\n",
      "208/208 [==============================] - 79s 379ms/step - loss: 0.1157 - accuracy: 0.9712 - val_loss: 0.2473 - val_accuracy: 0.9254\n",
      "Epoch 17/50\n",
      "208/208 [==============================] - 69s 331ms/step - loss: 0.0390 - accuracy: 0.9880 - val_loss: 0.6050 - val_accuracy: 0.9030\n",
      "Epoch 18/50\n",
      "208/208 [==============================] - 79s 379ms/step - loss: 0.4888 - accuracy: 0.8894 - val_loss: 0.7297 - val_accuracy: 0.3657\n",
      "Epoch 19/50\n",
      "208/208 [==============================] - 78s 375ms/step - loss: 0.4744 - accuracy: 0.7308 - val_loss: 0.8932 - val_accuracy: 0.4851\n",
      "Epoch 20/50\n",
      "208/208 [==============================] - 76s 365ms/step - loss: 0.3647 - accuracy: 0.8317 - val_loss: 1.0924 - val_accuracy: 0.5597\n",
      "Epoch 21/50\n",
      "208/208 [==============================] - 77s 371ms/step - loss: 0.2889 - accuracy: 0.8894 - val_loss: 0.6938 - val_accuracy: 0.6567\n",
      "Epoch 22/50\n",
      "208/208 [==============================] - 79s 380ms/step - loss: 0.2517 - accuracy: 0.9111 - val_loss: 0.6567 - val_accuracy: 0.7388\n",
      "Epoch 23/50\n",
      "208/208 [==============================] - 75s 362ms/step - loss: 0.2093 - accuracy: 0.9255 - val_loss: 0.3735 - val_accuracy: 0.8358\n",
      "Epoch 24/50\n",
      "208/208 [==============================] - 77s 372ms/step - loss: 0.1815 - accuracy: 0.9327 - val_loss: 0.3336 - val_accuracy: 0.8731\n",
      "Epoch 25/50\n",
      "208/208 [==============================] - 76s 368ms/step - loss: 0.1414 - accuracy: 0.9471 - val_loss: 0.3974 - val_accuracy: 0.8881\n",
      "Epoch 26/50\n",
      "208/208 [==============================] - 76s 364ms/step - loss: 0.1908 - accuracy: 0.9591 - val_loss: 0.3640 - val_accuracy: 0.8806\n",
      "Epoch 27/50\n",
      "208/208 [==============================] - 77s 369ms/step - loss: 0.1200 - accuracy: 0.9639 - val_loss: 0.1899 - val_accuracy: 0.9254\n",
      "Epoch 28/50\n",
      "208/208 [==============================] - 77s 368ms/step - loss: 0.0488 - accuracy: 0.9856 - val_loss: 0.2848 - val_accuracy: 0.9179\n",
      "Epoch 29/50\n",
      "208/208 [==============================] - 76s 364ms/step - loss: 0.0346 - accuracy: 0.9880 - val_loss: 0.1963 - val_accuracy: 0.9478\n",
      "Epoch 30/50\n",
      "208/208 [==============================] - 77s 372ms/step - loss: 0.0421 - accuracy: 0.9880 - val_loss: 0.1120 - val_accuracy: 0.9403\n",
      "Epoch 31/50\n",
      "208/208 [==============================] - 76s 364ms/step - loss: 0.0312 - accuracy: 0.9880 - val_loss: 0.2309 - val_accuracy: 0.9254\n",
      "Epoch 32/50\n",
      "208/208 [==============================] - 78s 375ms/step - loss: 0.2049 - accuracy: 0.9832 - val_loss: 0.1226 - val_accuracy: 0.9403\n",
      "Epoch 33/50\n",
      "208/208 [==============================] - 78s 376ms/step - loss: 0.2894 - accuracy: 0.9471 - val_loss: 0.1633 - val_accuracy: 0.9179\n",
      "Epoch 34/50\n",
      "208/208 [==============================] - 75s 362ms/step - loss: 0.1292 - accuracy: 0.9663 - val_loss: 0.1148 - val_accuracy: 0.9478\n",
      "Epoch 35/50\n",
      "208/208 [==============================] - 75s 362ms/step - loss: 0.0479 - accuracy: 0.9904 - val_loss: 0.3865 - val_accuracy: 0.9328\n",
      "Epoch 36/50\n",
      "208/208 [==============================] - 75s 362ms/step - loss: 0.0771 - accuracy: 0.9856 - val_loss: 0.6442 - val_accuracy: 0.8209\n",
      "Epoch 37/50\n",
      "208/208 [==============================] - 77s 368ms/step - loss: 0.1690 - accuracy: 0.9471 - val_loss: 0.2222 - val_accuracy: 0.9254\n",
      "Epoch 38/50\n",
      "208/208 [==============================] - 72s 348ms/step - loss: 0.0605 - accuracy: 0.9856 - val_loss: 0.2957 - val_accuracy: 0.9104\n",
      "Epoch 39/50\n",
      "208/208 [==============================] - 73s 351ms/step - loss: 0.0604 - accuracy: 0.9856 - val_loss: 0.1046 - val_accuracy: 0.9552\n",
      "Epoch 40/50\n",
      "208/208 [==============================] - 72s 345ms/step - loss: 0.0542 - accuracy: 0.9808 - val_loss: 0.2829 - val_accuracy: 0.8881\n",
      "Epoch 41/50\n",
      "208/208 [==============================] - 73s 352ms/step - loss: 0.0872 - accuracy: 0.9808 - val_loss: 0.2754 - val_accuracy: 0.9328\n",
      "Epoch 42/50\n",
      "208/208 [==============================] - 71s 340ms/step - loss: 0.0471 - accuracy: 0.9952 - val_loss: 0.2271 - val_accuracy: 0.9403\n",
      "Epoch 43/50\n",
      "208/208 [==============================] - 72s 344ms/step - loss: 0.0238 - accuracy: 0.9976 - val_loss: 0.1777 - val_accuracy: 0.9478\n",
      "Epoch 44/50\n",
      "208/208 [==============================] - 73s 352ms/step - loss: 0.0166 - accuracy: 0.9976 - val_loss: 0.2524 - val_accuracy: 0.9403\n",
      "Epoch 45/50\n",
      "208/208 [==============================] - 79s 379ms/step - loss: 0.4153 - accuracy: 0.8918 - val_loss: 0.6288 - val_accuracy: 0.6642\n",
      "Epoch 46/50\n",
      "208/208 [==============================] - 74s 354ms/step - loss: 0.2521 - accuracy: 0.9087 - val_loss: 0.5626 - val_accuracy: 0.7687\n",
      "Epoch 47/50\n",
      "208/208 [==============================] - 71s 341ms/step - loss: 0.2811 - accuracy: 0.9135 - val_loss: 0.6702 - val_accuracy: 0.7537\n",
      "Epoch 48/50\n",
      "208/208 [==============================] - 73s 351ms/step - loss: 0.1954 - accuracy: 0.9303 - val_loss: 0.4690 - val_accuracy: 0.8060\n",
      "Epoch 49/50\n",
      "208/208 [==============================] - 74s 356ms/step - loss: 0.1881 - accuracy: 0.9351 - val_loss: 0.5282 - val_accuracy: 0.8060\n",
      "Epoch 50/50\n",
      "208/208 [==============================] - 71s 341ms/step - loss: 0.1830 - accuracy: 0.9375 - val_loss: 0.3043 - val_accuracy: 0.8731\n"
     ]
    }
   ],
   "source": [
    "r = model.fit_generator(\n",
    "  training_set,\n",
    "  validation_data=test_set,\n",
    "  epochs=50,\n",
    "  steps_per_epoch=len(training_set),\n",
    "  validation_steps=len(test_set)\n",
    ")"
   ]
  },
  {
   "cell_type": "code",
   "execution_count": 18,
   "metadata": {},
   "outputs": [
    {
     "data": {
      "image/png": "[encoded data removed]",
      "text/plain": [
       "<Figure size 432x288 with 1 Axes>"
      ]
     },
     "metadata": {
      "needs_background": "light"
     },
     "output_type": "display_data"
    },
    {
     "data": {
      "image/png": "[encoded data removed]",
      "text/plain": [
       "<Figure size 432x288 with 1 Axes>"
      ]
     },
     "metadata": {
      "needs_background": "light"
     },
     "output_type": "display_data"
    },
    {
     "data": {
      "text/plain": [
       "<Figure size 432x288 with 0 Axes>"
      ]
     },
     "metadata": {},
     "output_type": "display_data"
    }
   ],
   "source": [
    "# plot the loss\n",
    "plt.plot(r.history['loss'], label='train loss')\n",
    "plt.plot(r.history['val_loss'], label='val loss')\n",
    "plt.legend()\n",
    "plt.show()\n",
    "plt.savefig('LossVal_loss')\n",
    "\n",
    "# plot the accuracy\n",
    "plt.plot(r.history['accuracy'], label='train acc')\n",
    "plt.plot(r.history['val_accuracy'], label='val acc')\n",
    "plt.legend()\n",
    "plt.show()\n",
    "plt.savefig('AccVal_acc')"
   ]
  },
  {
   "cell_type": "code",
   "execution_count": 27,
   "metadata": {},
   "outputs": [],
   "source": [
    "# save it as a h5 file\n",
    "\n",
    "\n",
    "from tensorflow.keras.models import load_model\n",
    "\n",
    "model.save('model_vgg19.h5')"
   ]
  },
  {
   "cell_type": "code",
   "execution_count": 28,
   "metadata": {},
   "outputs": [],
   "source": [
    "y_pred = model.predict(test_set)"
   ]
  },
  {
   "cell_type": "code",
   "execution_count": 29,
   "metadata": {},
   "outputs": [
    {
     "data": {
      "text/plain": [
       "array([[3.17382872e-01, 6.82617188e-01],\n",
       "       [1.00000000e+00, 3.98446410e-33],\n",
       "       [1.00000000e+00, 4.18354909e-15],\n",
       "       [1.00000000e+00, 2.47316140e-10],\n",
       "       [1.00000000e+00, 5.74524705e-19],\n",
       "       [3.00629377e-01, 6.99370623e-01],\n",
       "       [5.44677079e-01, 4.55322832e-01],\n",
       "       [6.56457901e-01, 3.43542129e-01],\n",
       "       [3.43232036e-01, 6.56767964e-01],\n",
       "       [2.83361554e-01, 7.16638446e-01],\n",
       "       [1.00000000e+00, 1.57943125e-09],\n",
       "       [2.90914118e-01, 7.09085882e-01],\n",
       "       [9.99900818e-01, 9.91899942e-05],\n",
       "       [9.99763906e-01, 2.36143489e-04],\n",
       "       [1.00000000e+00, 0.00000000e+00],\n",
       "       [2.05590039e-01, 7.94409931e-01],\n",
       "       [1.00000000e+00, 5.26707745e-16],\n",
       "       [1.00000000e+00, 1.07211847e-24],\n",
       "       [9.99998689e-01, 1.28882164e-06],\n",
       "       [3.35080475e-01, 6.64919555e-01],\n",
       "       [1.00000000e+00, 3.11546680e-38],\n",
       "       [1.00000000e+00, 2.77901971e-23],\n",
       "       [4.25023615e-01, 5.74976385e-01],\n",
       "       [9.89051640e-01, 1.09483041e-02],\n",
       "       [1.00000000e+00, 0.00000000e+00],\n",
       "       [1.00000000e+00, 2.05253681e-18],\n",
       "       [1.56516179e-01, 8.43483746e-01],\n",
       "       [9.99997616e-01, 2.43098475e-06],\n",
       "       [1.00000000e+00, 4.04126599e-09],\n",
       "       [1.91683903e-01, 8.08316171e-01],\n",
       "       [1.00000000e+00, 4.50549205e-33],\n",
       "       [1.00000000e+00, 3.94072153e-09],\n",
       "       [4.99546617e-01, 5.00453413e-01],\n",
       "       [2.34968662e-01, 7.65031397e-01],\n",
       "       [1.99105814e-01, 8.00894201e-01],\n",
       "       [1.00000000e+00, 2.77101188e-19],\n",
       "       [9.81692910e-01, 1.83070693e-02],\n",
       "       [4.19202149e-01, 5.80797851e-01],\n",
       "       [7.67707646e-01, 2.32292309e-01],\n",
       "       [2.63427705e-01, 7.36572266e-01],\n",
       "       [2.54059553e-01, 7.45940506e-01],\n",
       "       [1.00000000e+00, 4.47119526e-34],\n",
       "       [2.82162249e-01, 7.17837811e-01],\n",
       "       [9.99979973e-01, 2.00567247e-05],\n",
       "       [9.98918891e-01, 1.08117866e-03],\n",
       "       [1.00000000e+00, 1.13083622e-11],\n",
       "       [1.37811378e-01, 8.62188578e-01],\n",
       "       [3.18237722e-01, 6.81762278e-01],\n",
       "       [1.12299085e-01, 8.87700856e-01],\n",
       "       [2.68088996e-01, 7.31910944e-01],\n",
       "       [2.62451500e-01, 7.37548470e-01],\n",
       "       [4.62582678e-01, 5.37417352e-01],\n",
       "       [1.00000000e+00, 7.37618951e-29],\n",
       "       [1.00000000e+00, 6.53917610e-38],\n",
       "       [1.00000000e+00, 3.59294270e-17],\n",
       "       [2.85684913e-01, 7.14315116e-01],\n",
       "       [9.99999523e-01, 5.25702262e-07],\n",
       "       [4.87268656e-01, 5.12731373e-01],\n",
       "       [2.08969235e-01, 7.91030705e-01],\n",
       "       [6.87300980e-01, 3.12699020e-01],\n",
       "       [1.00000000e+00, 2.34669610e-11],\n",
       "       [1.00000000e+00, 1.81327804e-12],\n",
       "       [1.00000000e+00, 4.39528606e-17],\n",
       "       [3.22827995e-01, 6.77172005e-01],\n",
       "       [2.56881118e-01, 7.43118942e-01],\n",
       "       [3.46762091e-01, 6.53237879e-01],\n",
       "       [1.00000000e+00, 7.01325317e-11],\n",
       "       [1.62278220e-01, 8.37721825e-01],\n",
       "       [3.09367359e-01, 6.90632582e-01],\n",
       "       [9.99999285e-01, 6.85614680e-07],\n",
       "       [1.00000000e+00, 1.40032877e-17],\n",
       "       [2.65531212e-01, 7.34468758e-01],\n",
       "       [1.90057039e-01, 8.09942901e-01],\n",
       "       [1.00000000e+00, 4.94615087e-08],\n",
       "       [9.99867558e-01, 1.32386529e-04],\n",
       "       [6.97985411e-01, 3.02014619e-01],\n",
       "       [1.00000000e+00, 1.48580604e-16],\n",
       "       [1.00000000e+00, 5.81026562e-34],\n",
       "       [6.10364079e-01, 3.89635891e-01],\n",
       "       [3.25087696e-01, 6.74912333e-01],\n",
       "       [1.00000000e+00, 1.72496227e-13],\n",
       "       [2.72294700e-01, 7.27705300e-01],\n",
       "       [3.70125979e-01, 6.29873991e-01],\n",
       "       [1.09320000e-01, 8.90680015e-01],\n",
       "       [2.19624698e-01, 7.80375361e-01],\n",
       "       [1.00000000e+00, 4.64835779e-08],\n",
       "       [2.57916301e-01, 7.42083669e-01],\n",
       "       [5.82380712e-01, 4.17619318e-01],\n",
       "       [1.96063250e-01, 8.03936720e-01],\n",
       "       [9.99992728e-01, 7.30747979e-06],\n",
       "       [2.06551194e-01, 7.93448806e-01],\n",
       "       [6.06807768e-01, 3.93192261e-01],\n",
       "       [1.00000000e+00, 1.74531382e-15],\n",
       "       [9.99996066e-01, 3.92118045e-06],\n",
       "       [2.46459171e-01, 7.53540814e-01],\n",
       "       [1.00000000e+00, 8.70081177e-18],\n",
       "       [1.00000000e+00, 1.15739889e-23],\n",
       "       [7.56752253e-01, 2.43247718e-01],\n",
       "       [2.22100735e-01, 7.77899265e-01],\n",
       "       [9.99998808e-01, 1.20163247e-06],\n",
       "       [9.91082668e-01, 8.91732331e-03],\n",
       "       [3.83999854e-01, 6.16000116e-01],\n",
       "       [1.00000000e+00, 7.64149675e-35],\n",
       "       [4.74612594e-01, 5.25387466e-01],\n",
       "       [1.73275813e-01, 8.26724172e-01],\n",
       "       [2.17816874e-01, 7.82183111e-01],\n",
       "       [1.58489585e-01, 8.41510355e-01],\n",
       "       [7.32241571e-01, 2.67758369e-01],\n",
       "       [1.00000000e+00, 7.67343274e-14],\n",
       "       [1.00000000e+00, 2.12525927e-17],\n",
       "       [1.00000000e+00, 4.77430282e-22],\n",
       "       [1.00000000e+00, 1.82840996e-08],\n",
       "       [1.00000000e+00, 3.60359708e-23],\n",
       "       [2.87121713e-01, 7.12878227e-01],\n",
       "       [9.23873901e-01, 7.61260316e-02],\n",
       "       [2.66974479e-01, 7.33025551e-01],\n",
       "       [9.99976993e-01, 2.30453988e-05],\n",
       "       [1.00000000e+00, 5.85315455e-27],\n",
       "       [7.02336311e-01, 2.97663689e-01],\n",
       "       [9.94409502e-01, 5.59048122e-03],\n",
       "       [2.33436719e-01, 7.66563296e-01],\n",
       "       [4.58004296e-01, 5.41995704e-01],\n",
       "       [3.34397405e-01, 6.65602565e-01],\n",
       "       [1.89019144e-01, 8.10980797e-01],\n",
       "       [1.00000000e+00, 2.06804070e-13],\n",
       "       [1.00000000e+00, 1.20469579e-09],\n",
       "       [9.99999881e-01, 1.00432388e-07],\n",
       "       [9.99708354e-01, 2.91649660e-04],\n",
       "       [1.00000000e+00, 0.00000000e+00],\n",
       "       [5.60874641e-01, 4.39125389e-01],\n",
       "       [1.00000000e+00, 1.57523013e-18],\n",
       "       [3.30429345e-01, 6.69570565e-01],\n",
       "       [3.76525134e-01, 6.23474836e-01],\n",
       "       [1.00000000e+00, 3.35112427e-25]], dtype=float32)"
      ]
     },
     "execution_count": 29,
     "metadata": {},
     "output_type": "execute_result"
    }
   ],
   "source": [
    "\n",
    "y_pred"
   ]
  },
  {
   "cell_type": "code",
   "execution_count": 30,
   "metadata": {},
   "outputs": [
    {
     "data": {
      "text/plain": [
       "(134, 2)"
      ]
     },
     "execution_count": 30,
     "metadata": {},
     "output_type": "execute_result"
    }
   ],
   "source": [
    "y_pred.shape"
   ]
  },
  {
   "cell_type": "code",
   "execution_count": 31,
   "metadata": {},
   "outputs": [],
   "source": [
    "\n",
    "import numpy as np\n",
    "y_pred = np.argmax(y_pred, axis=1)"
   ]
  },
  {
   "cell_type": "code",
   "execution_count": 32,
   "metadata": {},
   "outputs": [
    {
     "data": {
      "text/plain": [
       "array([1, 0, 0, 0, 0, 1, 0, 0, 1, 1, 0, 1, 0, 0, 0, 1, 0, 0, 0, 1, 0, 0,\n",
       "       1, 0, 0, 0, 1, 0, 0, 1, 0, 0, 1, 1, 1, 0, 0, 1, 0, 1, 1, 0, 1, 0,\n",
       "       0, 0, 1, 1, 1, 1, 1, 1, 0, 0, 0, 1, 0, 1, 1, 0, 0, 0, 0, 1, 1, 1,\n",
       "       0, 1, 1, 0, 0, 1, 1, 0, 0, 0, 0, 0, 0, 1, 0, 1, 1, 1, 1, 0, 1, 0,\n",
       "       1, 0, 1, 0, 0, 0, 1, 0, 0, 0, 1, 0, 0, 1, 0, 1, 1, 1, 1, 0, 0, 0,\n",
       "       0, 0, 0, 1, 0, 1, 0, 0, 0, 0, 1, 1, 1, 1, 0, 0, 0, 0, 0, 0, 0, 1,\n",
       "       1, 0], dtype=int64)"
      ]
     },
     "execution_count": 32,
     "metadata": {},
     "output_type": "execute_result"
    }
   ],
   "source": [
    "\n",
    "y_pred"
   ]
  },
  {
   "cell_type": "code",
   "execution_count": 33,
   "metadata": {},
   "outputs": [],
   "source": [
    "from tensorflow.keras.models import load_model\n",
    "from tensorflow.keras.preprocessing import image"
   ]
  },
  {
   "cell_type": "code",
   "execution_count": 34,
   "metadata": {},
   "outputs": [],
   "source": [
    "model=load_model('model_vgg19.h5')"
   ]
  },
  {
   "cell_type": "code",
   "execution_count": null,
   "metadata": {},
   "outputs": [],
   "source": [
    "img=image.load_img('Dataset/Test/Parasite/11.png',target_size=(224,224))"
   ]
  },
  {
   "cell_type": "code",
   "execution_count": null,
   "metadata": {},
   "outputs": [],
   "source": [
    "img"
   ]
  },
  {
   "cell_type": "code",
   "execution_count": null,
   "metadata": {},
   "outputs": [],
   "source": [
    "\n",
    "x=image.img_to_array(img)\n",
    "x"
   ]
  },
  {
   "cell_type": "code",
   "execution_count": null,
   "metadata": {},
   "outputs": [],
   "source": [
    "\n",
    "x=x/255"
   ]
  },
  {
   "cell_type": "code",
   "execution_count": null,
   "metadata": {},
   "outputs": [],
   "source": [
    "x.shape"
   ]
  },
  {
   "cell_type": "code",
   "execution_count": null,
   "metadata": {},
   "outputs": [],
   "source": [
    "x1 = x.reshape(-1,224,224,3)"
   ]
  },
  {
   "cell_type": "code",
   "execution_count": null,
   "metadata": {},
   "outputs": [],
   "source": [
    "x=np.expand_dims(x,axis=0)\n",
    "img_data=preprocess_input(x)\n",
    "img_data.shape"
   ]
  },
  {
   "cell_type": "code",
   "execution_count": null,
   "metadata": {},
   "outputs": [],
   "source": [
    "y =model.predict(img_data)\n"
   ]
  },
  {
   "cell_type": "code",
   "execution_count": null,
   "metadata": {},
   "outputs": [],
   "source": [
    "z =model.predict(x1)\n",
    "z"
   ]
  },
  {
   "cell_type": "code",
   "execution_count": null,
   "metadata": {},
   "outputs": [],
   "source": [
    "y.shape"
   ]
  },
  {
   "cell_type": "code",
   "execution_count": null,
   "metadata": {},
   "outputs": [],
   "source": [
    "y"
   ]
  },
  {
   "cell_type": "code",
   "execution_count": null,
   "metadata": {},
   "outputs": [],
   "source": [
    "a=np.argmax(y)"
   ]
  },
  {
   "cell_type": "code",
   "execution_count": null,
   "metadata": {},
   "outputs": [],
   "source": [
    "a"
   ]
  },
  {
   "cell_type": "code",
   "execution_count": null,
   "metadata": {},
   "outputs": [],
   "source": [
    "if(a==1):\n",
    "    print(\"Uninfected\")\n",
    "else:\n",
    "    print(\"Infected\")"
   ]
  },
  {
   "cell_type": "code",
   "execution_count": null,
   "metadata": {},
   "outputs": [],
   "source": [
    "img1=image.load_img('Dataset/Test/Uninfected/11.png',target_size=(224,224))"
   ]
  },
  {
   "cell_type": "code",
   "execution_count": null,
   "metadata": {},
   "outputs": [],
   "source": [
    "img1"
   ]
  },
  {
   "cell_type": "code",
   "execution_count": null,
   "metadata": {},
   "outputs": [],
   "source": [
    "x1=image.img_to_array(img1)"
   ]
  },
  {
   "cell_type": "code",
   "execution_count": null,
   "metadata": {},
   "outputs": [],
   "source": []
  }
 ],
 "metadata": {
  "kernelspec": {
   "display_name": "Python 3",
   "language": "python",
   "name": "python3"
  },
  "language_info": {
   "codemirror_mode": {
    "name": "ipython",
    "version": 3
   },
   "file_extension": ".py",
   "mimetype": "text/x-python",
   "name": "python",
   "nbconvert_exporter": "python",
   "pygments_lexer": "ipython3",
   "version": "3.7.9"
  }
 },
 "nbformat": 4,
 "nbformat_minor": 4
}
